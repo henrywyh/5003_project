{
 "cells": [
  {
   "cell_type": "code",
   "execution_count": 4,
   "metadata": {},
   "outputs": [
    {
     "ename": "IndexError",
     "evalue": "list index out of range",
     "output_type": "error",
     "traceback": [
      "\u001b[0;31m---------------------------------------------------------------------------\u001b[0m",
      "\u001b[0;31mIndexError\u001b[0m                                Traceback (most recent call last)",
      "Input \u001b[0;32mIn [4]\u001b[0m, in \u001b[0;36m<cell line: 20>\u001b[0;34m()\u001b[0m\n\u001b[1;32m     18\u001b[0m \u001b[38;5;66;03m# Create a DStream from the streaming function\u001b[39;00m\n\u001b[1;32m     19\u001b[0m subreddit \u001b[38;5;241m=\u001b[39m \u001b[38;5;124m\"\u001b[39m\u001b[38;5;124mpython\u001b[39m\u001b[38;5;124m\"\u001b[39m\n\u001b[0;32m---> 20\u001b[0m dstream \u001b[38;5;241m=\u001b[39m \u001b[43mssc\u001b[49m\u001b[38;5;241;43m.\u001b[39;49m\u001b[43mqueueStream\u001b[49m\u001b[43m(\u001b[49m\u001b[43m[\u001b[49m\u001b[43m]\u001b[49m\u001b[43m,\u001b[49m\u001b[43m \u001b[49m\u001b[43mdefault\u001b[49m\u001b[38;5;241;43m=\u001b[39;49m\u001b[38;5;28;43;01mNone\u001b[39;49;00m\u001b[43m)\u001b[49m\u001b[38;5;241m.\u001b[39mflatMap(\u001b[38;5;28;01mlambda\u001b[39;00m x: get_new_posts(subreddit))\n\u001b[1;32m     22\u001b[0m \u001b[38;5;66;03m# Process the DStream\u001b[39;00m\n\u001b[1;32m     23\u001b[0m dstream\u001b[38;5;241m.\u001b[39mpprint()\n",
      "File \u001b[0;32m~/Desktop/pg/pgspring/5003/spark-3.3.1-bin-hadoop2/python/pyspark/streaming/context.py:389\u001b[0m, in \u001b[0;36mStreamingContext.queueStream\u001b[0;34m(self, rdds, oneAtATime, default)\u001b[0m\n\u001b[1;32m    387\u001b[0m \u001b[38;5;28;01melse\u001b[39;00m:\n\u001b[1;32m    388\u001b[0m     jdstream \u001b[38;5;241m=\u001b[39m \u001b[38;5;28mself\u001b[39m\u001b[38;5;241m.\u001b[39m_jssc\u001b[38;5;241m.\u001b[39mqueueStream(queue, oneAtATime)\n\u001b[0;32m--> 389\u001b[0m \u001b[38;5;28;01mreturn\u001b[39;00m DStream(jdstream, \u001b[38;5;28mself\u001b[39m, \u001b[43mrdds\u001b[49m\u001b[43m[\u001b[49m\u001b[38;5;241;43m0\u001b[39;49m\u001b[43m]\u001b[49m\u001b[38;5;241m.\u001b[39m_jrdd_deserializer)\n",
      "\u001b[0;31mIndexError\u001b[0m: list index out of range"
     ]
    }
   ],
   "source": [
    "from pyspark import SparkContext\n",
    "from pyspark.streaming import StreamingContext\n",
    "from src.reddit import get_reddit_posts\n",
    "\n",
    "# Initialize the SparkContext and StreamingContext\n",
    "try:\n",
    "    sc = SparkContext.getOrCreate()\n",
    "except:\n",
    "    sc = SparkContext(appName=\"RedditPostStreaming\")\n",
    "ssc = StreamingContext(sc, 10)\n",
    "\n",
    "# Define the streaming function to retrieve new posts from a subreddit\n",
    "def get_new_posts(subreddit):\n",
    "    new_posts, _ = get_reddit_posts(subreddit, 10)\n",
    "    for post in new_posts:\n",
    "        yield post['title']\n",
    "\n",
    "# Create a DStream from the streaming function\n",
    "subreddit = \"python\"\n",
    "dstream = ssc.queueStream([], default=None).flatMap(lambda x: get_new_posts(subreddit))\n",
    "\n",
    "# Process the DStream\n",
    "dstream.pprint()\n",
    "\n",
    "# Start the StreamingContext and wait for termination\n",
    "ssc.start()\n",
    "ssc.awaitTermination()"
   ]
  },
  {
   "cell_type": "code",
   "execution_count": null,
   "metadata": {},
   "outputs": [],
   "source": []
  },
  {
   "cell_type": "code",
   "execution_count": null,
   "metadata": {},
   "outputs": [],
   "source": []
  }
 ],
 "metadata": {
  "kernelspec": {
   "display_name": "Python 3 (ipykernel)",
   "language": "python",
   "name": "python3"
  },
  "language_info": {
   "codemirror_mode": {
    "name": "ipython",
    "version": 3
   },
   "file_extension": ".py",
   "mimetype": "text/x-python",
   "name": "python",
   "nbconvert_exporter": "python",
   "pygments_lexer": "ipython3",
   "version": "3.10.10"
  }
 },
 "nbformat": 4,
 "nbformat_minor": 4
}
