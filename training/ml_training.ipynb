{
 "cells": [
  {
   "cell_type": "markdown",
   "metadata": {},
   "source": [
    "## Data Loading"
   ]
  },
  {
   "cell_type": "code",
   "execution_count": 1,
   "metadata": {},
   "outputs": [],
   "source": [
    "from pyspark.sql.types import *\n",
    "from pyspark.ml.feature import Tokenizer, StopWordsRemover, CountVectorizer, IDF\n",
    "from pyspark.ml.feature import StringIndexer\n",
    "from pyspark.ml.classification import LogisticRegression\n",
    "from pyspark.ml import Pipeline\n",
    "from pyspark.ml.evaluation import MulticlassClassificationEvaluator\n",
    "from pyspark.ml.classification import RandomForestClassifier, RandomForestClassificationModel\n",
    "from pyspark.ml.tuning import ParamGridBuilder\n",
    "from pyspark.ml.tuning import CrossValidator\n",
    "import time"
   ]
  },
  {
   "cell_type": "code",
   "execution_count": 2,
   "metadata": {},
   "outputs": [],
   "source": [
    "twitter_path = './data/sentiment_tweets3.csv'\n",
    "reddit_path = './data/depression_dataset_reddit_cleaned.csv'\n",
    "mental_path = './data/mental_health.csv'\n",
    "\n",
    "# schema = StructType([StructField('text', StringType(), True),\n",
    "#                     StructField('label', IntegerType(), True)])\n",
    "\n",
    "df_twitter = spark.read.csv(twitter_path, header=True, inferSchema=True)\n",
    "df_reddit = spark.read.csv(reddit_path, header=True, inferSchema=True)\n",
    "df_mental = spark.read.csv(mental_path, header=True, inferSchema=True)"
   ]
  },
  {
   "cell_type": "code",
   "execution_count": 3,
   "metadata": {
    "scrolled": true
   },
   "outputs": [
    {
     "name": "stdout",
     "output_type": "stream",
     "text": [
      "root\n",
      " |-- Index: integer (nullable = true)\n",
      " |-- message to examine: string (nullable = true)\n",
      " |-- label (depression result): string (nullable = true)\n",
      "\n",
      "root\n",
      " |-- clean_text: string (nullable = true)\n",
      " |-- is_depression: integer (nullable = true)\n",
      "\n",
      "root\n",
      " |-- text: string (nullable = true)\n",
      " |-- label: integer (nullable = true)\n",
      "\n"
     ]
    }
   ],
   "source": [
    "df_twitter.printSchema()\n",
    "df_reddit.printSchema()\n",
    "df_mental.printSchema()"
   ]
  },
  {
   "cell_type": "code",
   "execution_count": 4,
   "metadata": {},
   "outputs": [],
   "source": [
    "df_twitter = df_twitter.withColumnRenamed(\"message to examine\", \"text\")\n",
    "df_twitter = df_twitter.withColumnRenamed(\"label (depression result)\", \"label\")\n",
    "df_twitter = df_twitter.withColumn(\"label\", df_twitter[\"label\"].cast(IntegerType()))\n",
    "df_twitter = df_twitter.drop('Index')\n",
    "\n",
    "df_reddit = df_reddit.withColumnRenamed(\"clean_text\", \"text\")\n",
    "df_reddit = df_reddit.withColumnRenamed(\"is_depression\", \"label\")"
   ]
  },
  {
   "cell_type": "code",
   "execution_count": 5,
   "metadata": {
    "scrolled": true
   },
   "outputs": [
    {
     "name": "stdout",
     "output_type": "stream",
     "text": [
      "+--------------------+-----+\n",
      "|                text|label|\n",
      "+--------------------+-----+\n",
      "|just had a real g...|    0|\n",
      "|is reading manga ...|    0|\n",
      "|@comeagainjen htt...|    0|\n",
      "|@lapcat Need to s...|    0|\n",
      "|ADD ME ON MYSPACE...|    0|\n",
      "|so sleepy. good t...|    0|\n",
      "|@SilkCharm re: #n...|    0|\n",
      "|23 or 24ï¿½C poss...|    0|\n",
      "|nite twitterville...|    0|\n",
      "|@daNanner Night, ...|    0|\n",
      "|Good morning ever...|    0|\n",
      "|Finally! I just c...|    0|\n",
      "|kisha they cnt ge...|    0|\n",
      "|@nicolerichie Yes...|    0|\n",
      "|I really love ref...|    0|\n",
      "|@blueaero ooo it'...|    0|\n",
      "|@rokchic28 no pro...|    0|\n",
      "|@shipovalov &quot...|    0|\n",
      "|Once again stayed...|    0|\n",
      "|@Kal_Penn I just ...|    0|\n",
      "+--------------------+-----+\n",
      "only showing top 20 rows\n",
      "\n",
      "+--------------------+-----+\n",
      "|                text|label|\n",
      "+--------------------+-----+\n",
      "|we understand tha...|    1|\n",
      "|welcome to r depr...|    1|\n",
      "|anyone else inste...|    1|\n",
      "|i ve kind of stuf...|    1|\n",
      "|sleep is my great...|    1|\n",
      "|i m year old turn...|    1|\n",
      "|i live alone and ...|    1|\n",
      "|i m not looking f...|    1|\n",
      "|i don t know how ...|    1|\n",
      "|mom i m sad it hu...|    1|\n",
      "|i ve been struggl...|    1|\n",
      "|idk how to elabor...|    1|\n",
      "|i tried to help h...|    1|\n",
      "|to me it seems li...|    1|\n",
      "|my father committ...|    1|\n",
      "|i don t think i h...|    1|\n",
      "|tw suicide yea so...|    1|\n",
      "|got no one to tal...|    1|\n",
      "|i m sitting on my...|    1|\n",
      "|i hate myself so ...|    1|\n",
      "+--------------------+-----+\n",
      "only showing top 20 rows\n",
      "\n",
      "+--------------------+-----+\n",
      "|                text|label|\n",
      "+--------------------+-----+\n",
      "|dear american tee...|    0|\n",
      "|nothing look forw...|    1|\n",
      "|music recommendat...|    0|\n",
      "|im done trying fe...|    1|\n",
      "|worried  year old...|    1|\n",
      "|hey rredflag sure...|    1|\n",
      "|feel like someone...|    0|\n",
      "|deserve liveif di...|    1|\n",
      "|feels good ive se...|    1|\n",
      "|live guiltok made...|    1|\n",
      "|excercise motivat...|    0|\n",
      "|know youd rather ...|    0|\n",
      "|even time fuck  s...|    0|\n",
      "|usual hollywood s...|    0|\n",
      "|think it nearly u...|    0|\n",
      "|trying rd time k ...|    0|\n",
      "|guy coming sure w...|    0|\n",
      "|one best episodes...|    0|\n",
      "|good byehey you k...|    1|\n",
      "|tried put sugar c...|    1|\n",
      "+--------------------+-----+\n",
      "only showing top 20 rows\n",
      "\n"
     ]
    }
   ],
   "source": [
    "df_twitter.show()\n",
    "df_reddit.show()\n",
    "df_mental.show()"
   ]
  },
  {
   "cell_type": "markdown",
   "metadata": {},
   "source": [
    "## Data Preprocessing"
   ]
  },
  {
   "cell_type": "code",
   "execution_count": 6,
   "metadata": {},
   "outputs": [
    {
     "name": "stdout",
     "output_type": "stream",
     "text": [
      "0\n",
      "0\n",
      "0\n",
      "9\n",
      "0\n",
      "0\n"
     ]
    }
   ],
   "source": [
    "print(df_twitter.toPandas()['text'].isnull().sum())\n",
    "print(df_reddit.toPandas()['text'].isnull().sum())\n",
    "print(df_mental.toPandas()['text'].isnull().sum())\n",
    "\n",
    "print(df_twitter.toPandas()['label'].isnull().sum())\n",
    "print(df_reddit.toPandas()['label'].isnull().sum())\n",
    "print(df_mental.toPandas()['label'].isnull().sum())"
   ]
  },
  {
   "cell_type": "code",
   "execution_count": 7,
   "metadata": {},
   "outputs": [],
   "source": [
    "df_twitter = df_twitter.dropna()"
   ]
  },
  {
   "cell_type": "code",
   "execution_count": 8,
   "metadata": {},
   "outputs": [
    {
     "name": "stdout",
     "output_type": "stream",
     "text": [
      "0\n",
      "0\n",
      "0\n",
      "0\n",
      "0\n",
      "0\n"
     ]
    }
   ],
   "source": [
    "print(df_twitter.toPandas()['text'].isnull().sum())\n",
    "print(df_reddit.toPandas()['text'].isnull().sum())\n",
    "print(df_mental.toPandas()['text'].isnull().sum())\n",
    "\n",
    "print(df_twitter.toPandas()['label'].isnull().sum())\n",
    "print(df_reddit.toPandas()['label'].isnull().sum())\n",
    "print(df_mental.toPandas()['label'].isnull().sum())"
   ]
  },
  {
   "cell_type": "code",
   "execution_count": 9,
   "metadata": {},
   "outputs": [
    {
     "name": "stdout",
     "output_type": "stream",
     "text": [
      "+-----+-----+\n",
      "|label|count|\n",
      "+-----+-----+\n",
      "|    1|19974|\n",
      "|    0|26039|\n",
      "+-----+-----+\n",
      "\n",
      "46013\n"
     ]
    }
   ],
   "source": [
    "df = df_twitter.union(df_reddit).union(df_mental)\n",
    "\n",
    "df.groupby('label').count().show()\n",
    "print(df.count())"
   ]
  },
  {
   "cell_type": "code",
   "execution_count": 10,
   "metadata": {},
   "outputs": [
    {
     "name": "stdout",
     "output_type": "stream",
     "text": [
      "There are 37021 rows in the training set, and 8992 in the test set\n"
     ]
    }
   ],
   "source": [
    "trainDF, testDF = df.randomSplit([.8, .2], seed=42)\n",
    "print(f\"\"\"There are {trainDF.count()} rows in the training set, and {testDF.count()} in the test set\"\"\") "
   ]
  },
  {
   "cell_type": "markdown",
   "metadata": {},
   "source": [
    "## Feature Extraction"
   ]
  },
  {
   "cell_type": "code",
   "execution_count": 11,
   "metadata": {},
   "outputs": [
    {
     "name": "stdout",
     "output_type": "stream",
     "text": [
      "23/04/13 14:58:09 WARN StopWordsRemover: Default locale set was [en_HK]; however, it was not found in available locales in JVM, falling back to en_US locale. Set param `locale` in order to respect another locale.\n"
     ]
    }
   ],
   "source": [
    "tokenizer = Tokenizer(inputCol='text', outputCol='tokens')\n",
    "stopwords_remover = StopWordsRemover(inputCol='tokens', outputCol='filtered_tokens')\n",
    "vectorizer = CountVectorizer(inputCol='filtered_tokens', outputCol='vectors')\n",
    "idf = IDF(inputCol='vectors', outputCol='features')"
   ]
  },
  {
   "cell_type": "markdown",
   "metadata": {},
   "source": [
    "## Logistic Regression"
   ]
  },
  {
   "cell_type": "code",
   "execution_count": 12,
   "metadata": {
    "tags": []
   },
   "outputs": [
    {
     "name": "stderr",
     "output_type": "stream",
     "text": [
      "                                                                                \r"
     ]
    },
    {
     "name": "stdout",
     "output_type": "stream",
     "text": [
      "23/04/13 14:58:11 WARN DAGScheduler: Broadcasting large task binary with size 1123.2 KiB\n"
     ]
    },
    {
     "name": "stderr",
     "output_type": "stream",
     "text": [
      "[Stage 37:================================================>         (5 + 1) / 6]\r"
     ]
    },
    {
     "name": "stdout",
     "output_type": "stream",
     "text": [
      "23/04/13 14:58:13 WARN DAGScheduler: Broadcasting large task binary with size 1124.2 KiB\n"
     ]
    },
    {
     "name": "stderr",
     "output_type": "stream",
     "text": [
      "                                                                                \r"
     ]
    },
    {
     "name": "stdout",
     "output_type": "stream",
     "text": [
      "23/04/13 14:58:13 WARN DAGScheduler: Broadcasting large task binary with size 2.4 MiB\n"
     ]
    },
    {
     "name": "stderr",
     "output_type": "stream",
     "text": [
      "[Stage 39:=============================>                            (3 + 3) / 6]\r"
     ]
    },
    {
     "name": "stdout",
     "output_type": "stream",
     "text": [
      "23/04/13 14:58:14 WARN DAGScheduler: Broadcasting large task binary with size 2.4 MiB\n"
     ]
    },
    {
     "name": "stderr",
     "output_type": "stream",
     "text": [
      "                                                                                \r"
     ]
    },
    {
     "name": "stdout",
     "output_type": "stream",
     "text": [
      "23/04/13 14:58:14 WARN DAGScheduler: Broadcasting large task binary with size 2.4 MiB\n"
     ]
    },
    {
     "name": "stderr",
     "output_type": "stream",
     "text": [
      "[Stage 41:=============================>                            (3 + 3) / 6]\r"
     ]
    },
    {
     "name": "stdout",
     "output_type": "stream",
     "text": [
      "23/04/13 14:58:15 WARN DAGScheduler: Broadcasting large task binary with size 2.4 MiB\n",
      "23/04/13 14:58:15 WARN BLAS: Failed to load implementation from: com.github.fommil.netlib.NativeSystemBLAS\n",
      "23/04/13 14:58:15 WARN BLAS: Failed to load implementation from: com.github.fommil.netlib.NativeRefBLAS\n",
      "23/04/13 14:58:15 WARN DAGScheduler: Broadcasting large task binary with size 2.4 MiB\n"
     ]
    },
    {
     "name": "stderr",
     "output_type": "stream",
     "text": [
      "                                                                                \r"
     ]
    },
    {
     "name": "stdout",
     "output_type": "stream",
     "text": [
      "23/04/13 14:58:15 WARN DAGScheduler: Broadcasting large task binary with size 2.4 MiB\n",
      "23/04/13 14:58:15 WARN DAGScheduler: Broadcasting large task binary with size 2.4 MiB\n",
      "23/04/13 14:58:16 WARN DAGScheduler: Broadcasting large task binary with size 2.4 MiB\n",
      "23/04/13 14:58:16 WARN DAGScheduler: Broadcasting large task binary with size 2.4 MiB\n",
      "23/04/13 14:58:16 WARN DAGScheduler: Broadcasting large task binary with size 2.4 MiB\n",
      "23/04/13 14:58:16 WARN DAGScheduler: Broadcasting large task binary with size 2.4 MiB\n",
      "23/04/13 14:58:16 WARN DAGScheduler: Broadcasting large task binary with size 2.4 MiB\n",
      "23/04/13 14:58:16 WARN DAGScheduler: Broadcasting large task binary with size 2.4 MiB\n",
      "23/04/13 14:58:16 WARN DAGScheduler: Broadcasting large task binary with size 2.4 MiB\n",
      "23/04/13 14:58:16 WARN DAGScheduler: Broadcasting large task binary with size 2.4 MiB\n",
      "23/04/13 14:58:16 WARN DAGScheduler: Broadcasting large task binary with size 2.4 MiB\n",
      "23/04/13 14:58:16 WARN DAGScheduler: Broadcasting large task binary with size 2.4 MiB\n",
      "23/04/13 14:58:16 WARN DAGScheduler: Broadcasting large task binary with size 2.4 MiB\n",
      "23/04/13 14:58:17 WARN DAGScheduler: Broadcasting large task binary with size 2.4 MiB\n",
      "23/04/13 14:58:17 WARN DAGScheduler: Broadcasting large task binary with size 2.4 MiB\n",
      "23/04/13 14:58:17 WARN DAGScheduler: Broadcasting large task binary with size 2.4 MiB\n",
      "23/04/13 14:58:17 WARN DAGScheduler: Broadcasting large task binary with size 2.4 MiB\n",
      "23/04/13 14:58:17 WARN DAGScheduler: Broadcasting large task binary with size 2.4 MiB\n",
      "23/04/13 14:58:17 WARN DAGScheduler: Broadcasting large task binary with size 2.4 MiB\n",
      "23/04/13 14:58:17 WARN DAGScheduler: Broadcasting large task binary with size 2.4 MiB\n",
      "23/04/13 14:58:17 WARN DAGScheduler: Broadcasting large task binary with size 2.4 MiB\n",
      "23/04/13 14:58:17 WARN DAGScheduler: Broadcasting large task binary with size 2.4 MiB\n",
      "23/04/13 14:58:17 WARN DAGScheduler: Broadcasting large task binary with size 2.4 MiB\n",
      "23/04/13 14:58:17 WARN DAGScheduler: Broadcasting large task binary with size 2.4 MiB\n",
      "23/04/13 14:58:17 WARN DAGScheduler: Broadcasting large task binary with size 2.4 MiB\n",
      "23/04/13 14:58:18 WARN DAGScheduler: Broadcasting large task binary with size 2.4 MiB\n",
      "23/04/13 14:58:18 WARN DAGScheduler: Broadcasting large task binary with size 2.4 MiB\n",
      "23/04/13 14:58:18 WARN DAGScheduler: Broadcasting large task binary with size 2.4 MiB\n",
      "23/04/13 14:58:18 WARN DAGScheduler: Broadcasting large task binary with size 2.4 MiB\n",
      "23/04/13 14:58:18 WARN DAGScheduler: Broadcasting large task binary with size 2.4 MiB\n",
      "23/04/13 14:58:18 WARN DAGScheduler: Broadcasting large task binary with size 2.4 MiB\n",
      "23/04/13 14:58:18 WARN DAGScheduler: Broadcasting large task binary with size 2.4 MiB\n",
      "23/04/13 14:58:18 WARN DAGScheduler: Broadcasting large task binary with size 2.4 MiB\n",
      "23/04/13 14:58:18 WARN DAGScheduler: Broadcasting large task binary with size 2.4 MiB\n",
      "23/04/13 14:58:18 WARN DAGScheduler: Broadcasting large task binary with size 2.4 MiB\n",
      "23/04/13 14:58:18 WARN DAGScheduler: Broadcasting large task binary with size 2.4 MiB\n",
      "23/04/13 14:58:18 WARN DAGScheduler: Broadcasting large task binary with size 2.4 MiB\n",
      "23/04/13 14:58:19 WARN DAGScheduler: Broadcasting large task binary with size 2.4 MiB\n",
      "23/04/13 14:58:19 WARN DAGScheduler: Broadcasting large task binary with size 2.4 MiB\n",
      "23/04/13 14:58:19 WARN DAGScheduler: Broadcasting large task binary with size 2.4 MiB\n",
      "23/04/13 14:58:19 WARN DAGScheduler: Broadcasting large task binary with size 2.4 MiB\n",
      "23/04/13 14:58:19 WARN DAGScheduler: Broadcasting large task binary with size 2.4 MiB\n",
      "23/04/13 14:58:19 WARN DAGScheduler: Broadcasting large task binary with size 2.4 MiB\n",
      "23/04/13 14:58:19 WARN DAGScheduler: Broadcasting large task binary with size 2.4 MiB\n",
      "23/04/13 14:58:19 WARN DAGScheduler: Broadcasting large task binary with size 2.4 MiB\n",
      "23/04/13 14:58:19 WARN DAGScheduler: Broadcasting large task binary with size 2.4 MiB\n",
      "23/04/13 14:58:19 WARN DAGScheduler: Broadcasting large task binary with size 2.4 MiB\n",
      "23/04/13 14:58:20 WARN DAGScheduler: Broadcasting large task binary with size 2.4 MiB\n",
      "23/04/13 14:58:20 WARN DAGScheduler: Broadcasting large task binary with size 2.4 MiB\n",
      "23/04/13 14:58:20 WARN DAGScheduler: Broadcasting large task binary with size 2.4 MiB\n",
      "23/04/13 14:58:20 WARN DAGScheduler: Broadcasting large task binary with size 2.4 MiB\n",
      "23/04/13 14:58:20 WARN DAGScheduler: Broadcasting large task binary with size 2.4 MiB\n",
      "23/04/13 14:58:20 WARN DAGScheduler: Broadcasting large task binary with size 2.4 MiB\n",
      "23/04/13 14:58:20 WARN DAGScheduler: Broadcasting large task binary with size 2.4 MiB\n",
      "23/04/13 14:58:20 WARN DAGScheduler: Broadcasting large task binary with size 2.4 MiB\n",
      "23/04/13 14:58:20 WARN DAGScheduler: Broadcasting large task binary with size 2.4 MiB\n",
      "23/04/13 14:58:20 WARN DAGScheduler: Broadcasting large task binary with size 2.4 MiB\n",
      "23/04/13 14:58:20 WARN DAGScheduler: Broadcasting large task binary with size 2.4 MiB\n",
      "23/04/13 14:58:20 WARN DAGScheduler: Broadcasting large task binary with size 2.4 MiB\n",
      "23/04/13 14:58:21 WARN DAGScheduler: Broadcasting large task binary with size 2.4 MiB\n",
      "23/04/13 14:58:21 WARN DAGScheduler: Broadcasting large task binary with size 2.4 MiB\n",
      "23/04/13 14:58:21 WARN DAGScheduler: Broadcasting large task binary with size 2.4 MiB\n",
      "23/04/13 14:58:21 WARN DAGScheduler: Broadcasting large task binary with size 2.4 MiB\n",
      "23/04/13 14:58:21 WARN DAGScheduler: Broadcasting large task binary with size 2.4 MiB\n",
      "23/04/13 14:58:21 WARN DAGScheduler: Broadcasting large task binary with size 2.4 MiB\n",
      "23/04/13 14:58:21 WARN DAGScheduler: Broadcasting large task binary with size 2.4 MiB\n",
      "23/04/13 14:58:21 WARN DAGScheduler: Broadcasting large task binary with size 2.4 MiB\n",
      "23/04/13 14:58:21 WARN DAGScheduler: Broadcasting large task binary with size 2.4 MiB\n",
      "23/04/13 14:58:21 WARN DAGScheduler: Broadcasting large task binary with size 2.4 MiB\n",
      "23/04/13 14:58:21 WARN DAGScheduler: Broadcasting large task binary with size 2.4 MiB\n",
      "23/04/13 14:58:21 WARN DAGScheduler: Broadcasting large task binary with size 2.4 MiB\n",
      "23/04/13 14:58:22 WARN DAGScheduler: Broadcasting large task binary with size 2.4 MiB\n",
      "23/04/13 14:58:22 WARN DAGScheduler: Broadcasting large task binary with size 2.4 MiB\n",
      "23/04/13 14:58:22 WARN DAGScheduler: Broadcasting large task binary with size 2.4 MiB\n",
      "23/04/13 14:58:22 WARN DAGScheduler: Broadcasting large task binary with size 2.4 MiB\n",
      "23/04/13 14:58:22 WARN DAGScheduler: Broadcasting large task binary with size 2.4 MiB\n",
      "23/04/13 14:58:22 WARN DAGScheduler: Broadcasting large task binary with size 2.4 MiB\n",
      "23/04/13 14:58:22 WARN DAGScheduler: Broadcasting large task binary with size 2.4 MiB\n",
      "23/04/13 14:58:22 WARN DAGScheduler: Broadcasting large task binary with size 2.4 MiB\n",
      "23/04/13 14:58:22 WARN DAGScheduler: Broadcasting large task binary with size 2.4 MiB\n",
      "23/04/13 14:58:22 WARN DAGScheduler: Broadcasting large task binary with size 2.4 MiB\n",
      "23/04/13 14:58:22 WARN DAGScheduler: Broadcasting large task binary with size 2.4 MiB\n",
      "23/04/13 14:58:22 WARN DAGScheduler: Broadcasting large task binary with size 2.4 MiB\n",
      "23/04/13 14:58:22 WARN DAGScheduler: Broadcasting large task binary with size 2.4 MiB\n",
      "23/04/13 14:58:23 WARN DAGScheduler: Broadcasting large task binary with size 2.4 MiB\n",
      "23/04/13 14:58:23 WARN DAGScheduler: Broadcasting large task binary with size 2.4 MiB\n",
      "23/04/13 14:58:23 WARN DAGScheduler: Broadcasting large task binary with size 2.4 MiB\n",
      "23/04/13 14:58:23 WARN DAGScheduler: Broadcasting large task binary with size 2.4 MiB\n",
      "23/04/13 14:58:23 WARN DAGScheduler: Broadcasting large task binary with size 2.4 MiB\n",
      "23/04/13 14:58:23 WARN DAGScheduler: Broadcasting large task binary with size 2.4 MiB\n",
      "23/04/13 14:58:23 WARN DAGScheduler: Broadcasting large task binary with size 2.4 MiB\n",
      "23/04/13 14:58:23 WARN DAGScheduler: Broadcasting large task binary with size 2.4 MiB\n",
      "23/04/13 14:58:23 WARN DAGScheduler: Broadcasting large task binary with size 2.4 MiB\n",
      "23/04/13 14:58:23 WARN DAGScheduler: Broadcasting large task binary with size 2.4 MiB\n",
      "23/04/13 14:58:23 WARN DAGScheduler: Broadcasting large task binary with size 2.4 MiB\n",
      "23/04/13 14:58:23 WARN DAGScheduler: Broadcasting large task binary with size 2.4 MiB\n",
      "23/04/13 14:58:24 WARN DAGScheduler: Broadcasting large task binary with size 2.4 MiB\n",
      "23/04/13 14:58:24 WARN DAGScheduler: Broadcasting large task binary with size 2.4 MiB\n",
      "23/04/13 14:58:24 WARN DAGScheduler: Broadcasting large task binary with size 2.4 MiB\n",
      "23/04/13 14:58:24 WARN DAGScheduler: Broadcasting large task binary with size 2.4 MiB\n",
      "23/04/13 14:58:24 WARN DAGScheduler: Broadcasting large task binary with size 2.4 MiB\n",
      "23/04/13 14:58:24 WARN DAGScheduler: Broadcasting large task binary with size 2.4 MiB\n",
      "23/04/13 14:58:24 WARN DAGScheduler: Broadcasting large task binary with size 2.4 MiB\n",
      "23/04/13 14:58:24 WARN DAGScheduler: Broadcasting large task binary with size 2.4 MiB\n",
      "23/04/13 14:58:24 WARN DAGScheduler: Broadcasting large task binary with size 2.4 MiB\n",
      "23/04/13 14:58:24 WARN DAGScheduler: Broadcasting large task binary with size 2.4 MiB\n",
      "23/04/13 14:58:24 WARN DAGScheduler: Broadcasting large task binary with size 2.4 MiB\n",
      "23/04/13 14:58:25 WARN DAGScheduler: Broadcasting large task binary with size 2.4 MiB\n",
      "23/04/13 14:58:25 WARN DAGScheduler: Broadcasting large task binary with size 2.4 MiB\n",
      "23/04/13 14:58:25 WARN DAGScheduler: Broadcasting large task binary with size 2.4 MiB\n",
      "23/04/13 14:58:25 WARN DAGScheduler: Broadcasting large task binary with size 2.4 MiB\n",
      "23/04/13 14:58:25 WARN DAGScheduler: Broadcasting large task binary with size 2.4 MiB\n",
      "23/04/13 14:58:25 WARN DAGScheduler: Broadcasting large task binary with size 2.4 MiB\n",
      "23/04/13 14:58:25 WARN DAGScheduler: Broadcasting large task binary with size 2.4 MiB\n",
      "23/04/13 14:58:25 WARN DAGScheduler: Broadcasting large task binary with size 2.4 MiB\n",
      "23/04/13 14:58:25 WARN DAGScheduler: Broadcasting large task binary with size 2.4 MiB\n",
      "23/04/13 14:58:25 WARN DAGScheduler: Broadcasting large task binary with size 2.4 MiB\n",
      "23/04/13 14:58:25 WARN DAGScheduler: Broadcasting large task binary with size 2.4 MiB\n",
      "23/04/13 14:58:25 WARN DAGScheduler: Broadcasting large task binary with size 2.4 MiB\n",
      "23/04/13 14:58:25 WARN DAGScheduler: Broadcasting large task binary with size 2.4 MiB\n",
      "23/04/13 14:58:26 WARN DAGScheduler: Broadcasting large task binary with size 2.4 MiB\n",
      "23/04/13 14:58:26 WARN DAGScheduler: Broadcasting large task binary with size 2.4 MiB\n",
      "23/04/13 14:58:26 WARN DAGScheduler: Broadcasting large task binary with size 2.4 MiB\n",
      "23/04/13 14:58:26 WARN DAGScheduler: Broadcasting large task binary with size 2.4 MiB\n",
      "23/04/13 14:58:26 WARN DAGScheduler: Broadcasting large task binary with size 2.4 MiB\n",
      "23/04/13 14:58:26 WARN DAGScheduler: Broadcasting large task binary with size 2.4 MiB\n",
      "23/04/13 14:58:26 WARN DAGScheduler: Broadcasting large task binary with size 2.4 MiB\n",
      "23/04/13 14:58:26 WARN DAGScheduler: Broadcasting large task binary with size 2.4 MiB\n",
      "23/04/13 14:58:26 WARN DAGScheduler: Broadcasting large task binary with size 2.4 MiB\n",
      "23/04/13 14:58:26 WARN DAGScheduler: Broadcasting large task binary with size 2.4 MiB\n",
      "23/04/13 14:58:26 WARN DAGScheduler: Broadcasting large task binary with size 2.4 MiB\n",
      "23/04/13 14:58:26 WARN DAGScheduler: Broadcasting large task binary with size 2.4 MiB\n",
      "23/04/13 14:58:27 WARN DAGScheduler: Broadcasting large task binary with size 2.4 MiB\n",
      "23/04/13 14:58:27 WARN DAGScheduler: Broadcasting large task binary with size 2.4 MiB\n",
      "23/04/13 14:58:27 WARN DAGScheduler: Broadcasting large task binary with size 2.4 MiB\n",
      "23/04/13 14:58:27 WARN DAGScheduler: Broadcasting large task binary with size 2.4 MiB\n",
      "23/04/13 14:58:27 WARN DAGScheduler: Broadcasting large task binary with size 2.4 MiB\n",
      "23/04/13 14:58:27 WARN DAGScheduler: Broadcasting large task binary with size 2.4 MiB\n",
      "23/04/13 14:58:27 WARN DAGScheduler: Broadcasting large task binary with size 2.4 MiB\n",
      "23/04/13 14:58:27 WARN DAGScheduler: Broadcasting large task binary with size 2.4 MiB\n",
      "23/04/13 14:58:27 WARN DAGScheduler: Broadcasting large task binary with size 2.4 MiB\n",
      "23/04/13 14:58:27 WARN DAGScheduler: Broadcasting large task binary with size 2.4 MiB\n",
      "23/04/13 14:58:27 WARN DAGScheduler: Broadcasting large task binary with size 2.4 MiB\n",
      "23/04/13 14:58:27 WARN DAGScheduler: Broadcasting large task binary with size 2.4 MiB\n",
      "23/04/13 14:58:27 WARN DAGScheduler: Broadcasting large task binary with size 2.4 MiB\n",
      "23/04/13 14:58:28 WARN DAGScheduler: Broadcasting large task binary with size 2.4 MiB\n",
      "23/04/13 14:58:28 WARN DAGScheduler: Broadcasting large task binary with size 2.4 MiB\n",
      "23/04/13 14:58:28 WARN DAGScheduler: Broadcasting large task binary with size 2.4 MiB\n",
      "23/04/13 14:58:28 WARN DAGScheduler: Broadcasting large task binary with size 2.4 MiB\n",
      "23/04/13 14:58:28 WARN DAGScheduler: Broadcasting large task binary with size 2.4 MiB\n",
      "23/04/13 14:58:28 WARN DAGScheduler: Broadcasting large task binary with size 2.4 MiB\n",
      "23/04/13 14:58:28 WARN DAGScheduler: Broadcasting large task binary with size 2.4 MiB\n",
      "23/04/13 14:58:28 WARN DAGScheduler: Broadcasting large task binary with size 2.4 MiB\n",
      "23/04/13 14:58:28 WARN DAGScheduler: Broadcasting large task binary with size 2.4 MiB\n",
      "23/04/13 14:58:28 WARN DAGScheduler: Broadcasting large task binary with size 2.4 MiB\n",
      "23/04/13 14:58:28 WARN DAGScheduler: Broadcasting large task binary with size 2.4 MiB\n",
      "23/04/13 14:58:29 WARN DAGScheduler: Broadcasting large task binary with size 2.4 MiB\n",
      "23/04/13 14:58:29 WARN DAGScheduler: Broadcasting large task binary with size 2.4 MiB\n",
      "23/04/13 14:58:29 WARN DAGScheduler: Broadcasting large task binary with size 2.4 MiB\n",
      "23/04/13 14:58:29 WARN DAGScheduler: Broadcasting large task binary with size 2.4 MiB\n",
      "23/04/13 14:58:29 WARN DAGScheduler: Broadcasting large task binary with size 2.4 MiB\n",
      "23/04/13 14:58:29 WARN DAGScheduler: Broadcasting large task binary with size 2.4 MiB\n",
      "23/04/13 14:58:29 WARN DAGScheduler: Broadcasting large task binary with size 2.4 MiB\n",
      "23/04/13 14:58:29 WARN DAGScheduler: Broadcasting large task binary with size 2.4 MiB\n",
      "23/04/13 14:58:29 WARN DAGScheduler: Broadcasting large task binary with size 2.4 MiB\n",
      "23/04/13 14:58:29 WARN DAGScheduler: Broadcasting large task binary with size 2.4 MiB\n",
      "23/04/13 14:58:29 WARN DAGScheduler: Broadcasting large task binary with size 2.4 MiB\n",
      "23/04/13 14:58:29 WARN DAGScheduler: Broadcasting large task binary with size 2.4 MiB\n",
      "23/04/13 14:58:29 WARN DAGScheduler: Broadcasting large task binary with size 2.4 MiB\n",
      "23/04/13 14:58:30 WARN DAGScheduler: Broadcasting large task binary with size 2.4 MiB\n",
      "23/04/13 14:58:30 WARN DAGScheduler: Broadcasting large task binary with size 2.4 MiB\n",
      "23/04/13 14:58:30 WARN DAGScheduler: Broadcasting large task binary with size 2.4 MiB\n",
      "23/04/13 14:58:30 WARN DAGScheduler: Broadcasting large task binary with size 2.4 MiB\n",
      "23/04/13 14:58:30 WARN DAGScheduler: Broadcasting large task binary with size 2.4 MiB\n",
      "23/04/13 14:58:30 WARN DAGScheduler: Broadcasting large task binary with size 2.4 MiB\n",
      "23/04/13 14:58:30 WARN DAGScheduler: Broadcasting large task binary with size 2.4 MiB\n",
      "23/04/13 14:58:30 WARN DAGScheduler: Broadcasting large task binary with size 2.4 MiB\n",
      "23/04/13 14:58:30 WARN DAGScheduler: Broadcasting large task binary with size 2.4 MiB\n",
      "23/04/13 14:58:30 WARN DAGScheduler: Broadcasting large task binary with size 2.4 MiB\n",
      "23/04/13 14:58:30 WARN DAGScheduler: Broadcasting large task binary with size 2.4 MiB\n",
      "23/04/13 14:58:30 WARN DAGScheduler: Broadcasting large task binary with size 2.4 MiB\n",
      "23/04/13 14:58:30 WARN DAGScheduler: Broadcasting large task binary with size 2.4 MiB\n",
      "23/04/13 14:58:31 WARN DAGScheduler: Broadcasting large task binary with size 2.4 MiB\n",
      "23/04/13 14:58:31 WARN DAGScheduler: Broadcasting large task binary with size 2.4 MiB\n",
      "23/04/13 14:58:31 WARN DAGScheduler: Broadcasting large task binary with size 2.4 MiB\n",
      "23/04/13 14:58:31 WARN DAGScheduler: Broadcasting large task binary with size 2.4 MiB\n",
      "23/04/13 14:58:31 WARN DAGScheduler: Broadcasting large task binary with size 2.4 MiB\n",
      "23/04/13 14:58:31 WARN DAGScheduler: Broadcasting large task binary with size 2.4 MiB\n",
      "23/04/13 14:58:31 WARN DAGScheduler: Broadcasting large task binary with size 2.4 MiB\n",
      "23/04/13 14:58:31 WARN DAGScheduler: Broadcasting large task binary with size 2.4 MiB\n",
      "23/04/13 14:58:31 WARN DAGScheduler: Broadcasting large task binary with size 2.4 MiB\n",
      "23/04/13 14:58:31 WARN DAGScheduler: Broadcasting large task binary with size 2.4 MiB\n",
      "23/04/13 14:58:32 WARN DAGScheduler: Broadcasting large task binary with size 2.4 MiB\n",
      "23/04/13 14:58:32 WARN DAGScheduler: Broadcasting large task binary with size 2.4 MiB\n",
      "23/04/13 14:58:32 WARN DAGScheduler: Broadcasting large task binary with size 2.4 MiB\n",
      "23/04/13 14:58:32 WARN DAGScheduler: Broadcasting large task binary with size 2.4 MiB\n",
      "23/04/13 14:58:32 WARN DAGScheduler: Broadcasting large task binary with size 2.4 MiB\n",
      "23/04/13 14:58:32 WARN DAGScheduler: Broadcasting large task binary with size 2.4 MiB\n",
      "23/04/13 14:58:32 WARN DAGScheduler: Broadcasting large task binary with size 2.4 MiB\n",
      "23/04/13 14:58:32 WARN DAGScheduler: Broadcasting large task binary with size 2.4 MiB\n",
      "23/04/13 14:58:32 WARN DAGScheduler: Broadcasting large task binary with size 2.4 MiB\n",
      "23/04/13 14:58:32 WARN DAGScheduler: Broadcasting large task binary with size 2.4 MiB\n",
      "23/04/13 14:58:32 WARN DAGScheduler: Broadcasting large task binary with size 2.4 MiB\n",
      "23/04/13 14:58:32 WARN DAGScheduler: Broadcasting large task binary with size 2.4 MiB\n",
      "23/04/13 14:58:32 WARN DAGScheduler: Broadcasting large task binary with size 2.4 MiB\n",
      "23/04/13 14:58:33 WARN DAGScheduler: Broadcasting large task binary with size 2.4 MiB\n",
      "23/04/13 14:58:33 WARN DAGScheduler: Broadcasting large task binary with size 2.4 MiB\n",
      "23/04/13 14:58:33 WARN DAGScheduler: Broadcasting large task binary with size 2.4 MiB\n",
      "23/04/13 14:58:33 WARN DAGScheduler: Broadcasting large task binary with size 2.4 MiB\n",
      "23/04/13 14:58:33 WARN DAGScheduler: Broadcasting large task binary with size 2.4 MiB\n",
      "23/04/13 14:58:33 WARN DAGScheduler: Broadcasting large task binary with size 2.4 MiB\n",
      "23/04/13 14:58:33 WARN DAGScheduler: Broadcasting large task binary with size 2.4 MiB\n",
      "23/04/13 14:58:33 WARN DAGScheduler: Broadcasting large task binary with size 2.4 MiB\n",
      "23/04/13 14:58:33 WARN DAGScheduler: Broadcasting large task binary with size 2.4 MiB\n",
      "23/04/13 14:58:33 WARN DAGScheduler: Broadcasting large task binary with size 2.4 MiB\n",
      "23/04/13 14:58:33 WARN DAGScheduler: Broadcasting large task binary with size 2.4 MiB\n",
      "23/04/13 14:58:33 WARN DAGScheduler: Broadcasting large task binary with size 2.4 MiB\n",
      "23/04/13 14:58:33 WARN DAGScheduler: Broadcasting large task binary with size 2.4 MiB\n",
      "23/04/13 14:58:34 WARN DAGScheduler: Broadcasting large task binary with size 2.4 MiB\n",
      "23/04/13 14:58:34 WARN DAGScheduler: Broadcasting large task binary with size 2.4 MiB\n",
      "23/04/13 14:58:34 WARN DAGScheduler: Broadcasting large task binary with size 2.4 MiB\n",
      "23/04/13 14:58:34 WARN DAGScheduler: Broadcasting large task binary with size 2.4 MiB\n",
      "23/04/13 14:58:34 WARN DAGScheduler: Broadcasting large task binary with size 2.4 MiB\n",
      "23/04/13 14:58:34 WARN DAGScheduler: Broadcasting large task binary with size 2.4 MiB\n",
      "23/04/13 14:58:34 WARN DAGScheduler: Broadcasting large task binary with size 2.4 MiB\n",
      "23/04/13 14:58:34 WARN DAGScheduler: Broadcasting large task binary with size 2.4 MiB\n",
      "23/04/13 14:58:34 WARN DAGScheduler: Broadcasting large task binary with size 2.4 MiB\n"
     ]
    }
   ],
   "source": [
    "lr = LogisticRegression(featuresCol='features', labelCol='label')\n",
    "\n",
    "pipeline = Pipeline(stages=[tokenizer, stopwords_remover, vectorizer, idf, lr])\n",
    "\n",
    "pipelineModel = pipeline.fit(trainDF)"
   ]
  },
  {
   "cell_type": "code",
   "execution_count": 13,
   "metadata": {
    "tags": []
   },
   "outputs": [
    {
     "name": "stdout",
     "output_type": "stream",
     "text": [
      "23/04/13 14:58:35 WARN DAGScheduler: Broadcasting large task binary with size 3.2 MiB\n",
      "+--------------------+-----+--------------------+--------------------+--------------------+--------------------+--------------------+--------------------+----------+\n",
      "|                text|label|              tokens|     filtered_tokens|             vectors|            features|       rawPrediction|         probability|prediction|\n",
      "+--------------------+-----+--------------------+--------------------+--------------------+--------------------+--------------------+--------------------+----------+\n",
      "| I'm happy and co...|    0|[, i'm, happy, an...|  [, happy, content]|(88045,[0,95,1444...|(88045,[0,95,1444...|[8.03964118940184...|[0.99967767930539...|       0.0|\n",
      "| Stray Cats ~ Str...|    0|[, stray, cats, ~...|[, stray, cats, ~...|(88045,[0,899,187...|(88045,[0,899,187...|[46.5586610189792...|           [1.0,0.0]|       0.0|\n",
      "| Ty - now quit re...|    0|[, ty, -, now, qu...|[, ty, -, quit, r...|(88045,[0,171,712...|(88045,[0,171,712...|[65.5433065217257...|           [1.0,0.0]|       0.0|\n",
      "| https://fyi.org....|    1|[, https://fyi.or...|[, https://fyi.or...|(88045,[0,40,1521...|(88045,[0,40,1521...|[-25.740991166893...|[6.61956692766943...|       1.0|\n",
      "| i have twitter o...|    0|[, i, have, twitt...|  [, twitter, phone]|(88045,[0,337,100...|(88045,[0,337,100...|[24.1510958377677...|[0.99999999996754...|       0.0|\n",
      "+--------------------+-----+--------------------+--------------------+--------------------+--------------------+--------------------+--------------------+----------+\n",
      "only showing top 5 rows\n",
      "\n"
     ]
    }
   ],
   "source": [
    "predDF = pipelineModel.transform(testDF)\n",
    "\n",
    "predDF.show(5)"
   ]
  },
  {
   "cell_type": "code",
   "execution_count": 14,
   "metadata": {},
   "outputs": [
    {
     "name": "stdout",
     "output_type": "stream",
     "text": [
      "23/04/13 14:58:35 WARN DAGScheduler: Broadcasting large task binary with size 3.1 MiB\n",
      "Accuracy for logistic regression: 0.8470862989323843\n"
     ]
    }
   ],
   "source": [
    "evaluator = MulticlassClassificationEvaluator(predictionCol='prediction', labelCol='label', metricName='accuracy')\n",
    "\n",
    "accuracy = evaluator.evaluate(predDF)\n",
    "print(f'Accuracy for logistic regression: {accuracy}')"
   ]
  },
  {
   "cell_type": "code",
   "execution_count": 15,
   "metadata": {},
   "outputs": [
    {
     "name": "stdout",
     "output_type": "stream",
     "text": [
      "23/04/13 14:58:36 WARN TaskSetManager: Stage 278 contains a task of very large size (1779 KiB). The maximum recommended task size is 1000 KiB.\n"
     ]
    },
    {
     "name": "stderr",
     "output_type": "stream",
     "text": [
      "                                                                                \r"
     ]
    },
    {
     "name": "stdout",
     "output_type": "stream",
     "text": [
      "23/04/13 14:58:37 WARN TaskSetManager: Stage 282 contains a task of very large size (1408 KiB). The maximum recommended task size is 1000 KiB.\n"
     ]
    }
   ],
   "source": [
    "# Save model\n",
    "model_path = \"../backend/models/lr_model\"\n",
    "pipelineModel.save(model_path)"
   ]
  },
  {
   "cell_type": "code",
   "execution_count": 16,
   "metadata": {},
   "outputs": [
    {
     "name": "stdout",
     "output_type": "stream",
     "text": [
      "23/04/13 14:58:38 WARN StopWordsRemover: Default locale set was [en_HK]; however, it was not found in available locales in JVM, falling back to en_US locale. Set param `locale` in order to respect another locale.\n",
      "23/04/13 14:58:39 WARN StopWordsRemover: Default locale set was [en_HK]; however, it was not found in available locales in JVM, falling back to en_US locale. Set param `locale` in order to respect another locale.\n"
     ]
    }
   ],
   "source": [
    "# Load model\n",
    "from pyspark.ml import PipelineModel\n",
    "\n",
    "loaded_pipeline_model  = PipelineModel.load(\"../backend/models/lr_model\")\n",
    "df = pipelineModel.transform(df)"
   ]
  },
  {
   "cell_type": "markdown",
   "metadata": {},
   "source": [
    "## Random Forest"
   ]
  },
  {
   "cell_type": "code",
   "execution_count": 17,
   "metadata": {},
   "outputs": [],
   "source": [
    "rf = RandomForestClassifier(labelCol='label', maxBins=40, seed=42)"
   ]
  },
  {
   "cell_type": "code",
   "execution_count": 18,
   "metadata": {},
   "outputs": [],
   "source": [
    "paramGrid = (ParamGridBuilder()\n",
    "            .addGrid(rf.maxDepth, [2, 4, 6])\n",
    "            .addGrid(rf.numTrees, [10, 100])\n",
    "            .build())"
   ]
  },
  {
   "cell_type": "code",
   "execution_count": 19,
   "metadata": {},
   "outputs": [],
   "source": [
    "evaluator = MulticlassClassificationEvaluator(predictionCol='prediction', labelCol='label', metricName='accuracy')"
   ]
  },
  {
   "cell_type": "code",
   "execution_count": 20,
   "metadata": {},
   "outputs": [],
   "source": [
    "cv = CrossValidator(estimator=rf,\n",
    "                    evaluator=evaluator,\n",
    "                    estimatorParamMaps=paramGrid,\n",
    "                    numFolds=3,\n",
    "                    parallelism=4,\n",
    "                    seed=42)\n",
    "\n",
    "pipeline = Pipeline(stages=[tokenizer, stopwords_remover, vectorizer, idf, rf])"
   ]
  },
  {
   "cell_type": "code",
   "execution_count": 21,
   "metadata": {},
   "outputs": [
    {
     "name": "stderr",
     "output_type": "stream",
     "text": [
      "                                                                                \r"
     ]
    },
    {
     "name": "stdout",
     "output_type": "stream",
     "text": [
      "23/04/13 14:58:40 WARN DAGScheduler: Broadcasting large task binary with size 1123.2 KiB\n",
      "23/04/13 14:58:41 WARN DAGScheduler: Broadcasting large task binary with size 1124.2 KiB\n",
      "23/04/13 14:58:41 WARN DAGScheduler: Broadcasting large task binary with size 2.4 MiB\n",
      "23/04/13 14:58:41 WARN DAGScheduler: Broadcasting large task binary with size 2.4 MiB\n",
      "23/04/13 14:58:42 WARN DAGScheduler: Broadcasting large task binary with size 3.3 MiB\n"
     ]
    },
    {
     "name": "stderr",
     "output_type": "stream",
     "text": [
      "                                                                                \r"
     ]
    },
    {
     "name": "stdout",
     "output_type": "stream",
     "text": [
      "23/04/13 14:58:52 WARN DAGScheduler: Broadcasting large task binary with size 4.1 MiB\n",
      "23/04/13 14:58:53 WARN MemoryStore: Not enough space to cache rdd_868_4 in memory! (computed 38.0 MiB so far)\n",
      "23/04/13 14:58:53 WARN MemoryStore: Not enough space to cache rdd_868_0 in memory! (computed 59.5 MiB so far)\n",
      "23/04/13 14:58:53 WARN MemoryStore: Not enough space to cache rdd_868_3 in memory! (computed 59.5 MiB so far)\n",
      "23/04/13 14:58:53 WARN MemoryStore: Not enough space to cache rdd_868_2 in memory! (computed 59.5 MiB so far)\n",
      "23/04/13 14:58:53 WARN MemoryStore: Not enough space to cache rdd_868_5 in memory! (computed 38.0 MiB so far)\n",
      "23/04/13 14:58:53 WARN BlockManager: Persisting block rdd_868_4 to disk instead.\n",
      "23/04/13 14:58:53 WARN BlockManager: Persisting block rdd_868_3 to disk instead.\n",
      "23/04/13 14:58:53 WARN BlockManager: Persisting block rdd_868_5 to disk instead.\n",
      "23/04/13 14:58:53 WARN BlockManager: Persisting block rdd_868_2 to disk instead.\n",
      "23/04/13 14:58:53 WARN BlockManager: Persisting block rdd_868_0 to disk instead.\n"
     ]
    },
    {
     "name": "stderr",
     "output_type": "stream",
     "text": [
      "[Stage 320:>                                                        (0 + 6) / 6]\r"
     ]
    },
    {
     "name": "stdout",
     "output_type": "stream",
     "text": [
      "23/04/13 14:58:54 WARN MemoryStore: Not enough space to cache rdd_868_1 in memory! (computed 319.5 MiB so far)\n",
      "23/04/13 14:58:54 WARN BlockManager: Persisting block rdd_868_1 to disk instead.\n"
     ]
    },
    {
     "name": "stderr",
     "output_type": "stream",
     "text": [
      "[Stage 320:=========>                                               (1 + 5) / 6]\r"
     ]
    },
    {
     "name": "stdout",
     "output_type": "stream",
     "text": [
      "23/04/13 14:59:07 WARN MemoryStore: Not enough space to cache rdd_868_1 in memory! (computed 59.5 MiB so far)\n",
      "23/04/13 14:59:11 WARN MemoryStore: Not enough space to cache rdd_868_0 in memory! (computed 59.5 MiB so far)\n",
      "23/04/13 14:59:12 WARN MemoryStore: Not enough space to cache rdd_868_2 in memory! (computed 59.5 MiB so far)\n",
      "23/04/13 14:59:12 WARN MemoryStore: Not enough space to cache rdd_868_4 in memory! (computed 21.8 MiB so far)\n",
      "23/04/13 14:59:12 WARN MemoryStore: Not enough space to cache rdd_868_3 in memory! (computed 91.7 MiB so far)\n"
     ]
    },
    {
     "name": "stderr",
     "output_type": "stream",
     "text": [
      "                                                                                \r"
     ]
    },
    {
     "name": "stdout",
     "output_type": "stream",
     "text": [
      "23/04/13 14:59:17 WARN DAGScheduler: Broadcasting large task binary with size 4.1 MiB\n",
      "23/04/13 14:59:17 WARN MemoryStore: Not enough space to cache rdd_868_4 in memory! (computed 21.8 MiB so far)\n",
      "23/04/13 14:59:17 WARN MemoryStore: Not enough space to cache rdd_868_1 in memory! (computed 38.0 MiB so far)\n",
      "23/04/13 14:59:17 WARN MemoryStore: Not enough space to cache rdd_868_0 in memory! (computed 11.1 MiB so far)\n",
      "23/04/13 14:59:17 WARN MemoryStore: Not enough space to cache rdd_868_2 in memory! (computed 21.8 MiB so far)\n"
     ]
    },
    {
     "name": "stderr",
     "output_type": "stream",
     "text": [
      "[Stage 322:>                                                        (0 + 6) / 6]\r"
     ]
    },
    {
     "name": "stdout",
     "output_type": "stream",
     "text": [
      "23/04/13 14:59:17 WARN MemoryStore: Not enough space to cache rdd_868_3 in memory! (computed 91.7 MiB so far)\n"
     ]
    },
    {
     "name": "stderr",
     "output_type": "stream",
     "text": [
      "                                                                                \r"
     ]
    },
    {
     "name": "stdout",
     "output_type": "stream",
     "text": [
      "23/04/13 14:59:24 WARN DAGScheduler: Broadcasting large task binary with size 4.2 MiB\n",
      "23/04/13 14:59:25 WARN MemoryStore: Not enough space to cache rdd_868_4 in memory! (computed 38.0 MiB so far)\n",
      "23/04/13 14:59:25 WARN MemoryStore: Not enough space to cache rdd_868_2 in memory! (computed 11.1 MiB so far)\n",
      "23/04/13 14:59:25 WARN MemoryStore: Not enough space to cache rdd_868_0 in memory! (computed 21.8 MiB so far)\n",
      "23/04/13 14:59:25 WARN MemoryStore: Not enough space to cache rdd_868_1 in memory! (computed 21.8 MiB so far)\n",
      "23/04/13 14:59:25 WARN MemoryStore: Not enough space to cache rdd_868_3 in memory! (computed 21.8 MiB so far)\n"
     ]
    },
    {
     "name": "stderr",
     "output_type": "stream",
     "text": [
      "                                                                                \r"
     ]
    },
    {
     "name": "stdout",
     "output_type": "stream",
     "text": [
      "23/04/13 14:59:33 WARN DAGScheduler: Broadcasting large task binary with size 4.3 MiB\n",
      "23/04/13 14:59:33 WARN MemoryStore: Not enough space to cache rdd_868_3 in memory! (computed 21.8 MiB so far)\n",
      "23/04/13 14:59:33 WARN MemoryStore: Not enough space to cache rdd_868_2 in memory! (computed 21.8 MiB so far)\n",
      "23/04/13 14:59:33 WARN MemoryStore: Not enough space to cache rdd_868_4 in memory! (computed 21.8 MiB so far)\n",
      "23/04/13 14:59:33 WARN MemoryStore: Not enough space to cache rdd_868_0 in memory! (computed 21.8 MiB so far)\n",
      "23/04/13 14:59:33 WARN MemoryStore: Not enough space to cache rdd_868_1 in memory! (computed 21.8 MiB so far)\n"
     ]
    },
    {
     "name": "stderr",
     "output_type": "stream",
     "text": [
      "                                                                                \r"
     ]
    },
    {
     "name": "stdout",
     "output_type": "stream",
     "text": [
      "23/04/13 14:59:39 WARN DAGScheduler: Broadcasting large task binary with size 4.3 MiB\n",
      "23/04/13 14:59:39 WARN MemoryStore: Not enough space to cache rdd_868_4 in memory! (computed 11.1 MiB so far)\n",
      "23/04/13 14:59:39 WARN MemoryStore: Not enough space to cache rdd_868_1 in memory! (computed 11.1 MiB so far)\n",
      "23/04/13 14:59:39 WARN MemoryStore: Not enough space to cache rdd_868_0 in memory! (computed 11.1 MiB so far)\n",
      "23/04/13 14:59:39 WARN MemoryStore: Not enough space to cache rdd_868_3 in memory! (computed 38.0 MiB so far)\n",
      "23/04/13 14:59:40 WARN MemoryStore: Not enough space to cache rdd_868_2 in memory! (computed 91.7 MiB so far)\n"
     ]
    },
    {
     "name": "stderr",
     "output_type": "stream",
     "text": [
      "                                                                                \r"
     ]
    },
    {
     "name": "stdout",
     "output_type": "stream",
     "text": [
      "Time spent: 67.56023573875427\n"
     ]
    }
   ],
   "source": [
    "start_time = time.time()\n",
    "\n",
    "pipelineModel = pipeline.fit(trainDF)\n",
    "print('Time spent:', time.time() - start_time)"
   ]
  },
  {
   "cell_type": "code",
   "execution_count": 22,
   "metadata": {},
   "outputs": [
    {
     "name": "stdout",
     "output_type": "stream",
     "text": [
      "23/04/13 14:59:47 WARN DAGScheduler: Broadcasting large task binary with size 2.6 MiB\n",
      "Accuracy for random forest: 0.7068505338078291\n"
     ]
    }
   ],
   "source": [
    "predDF = pipelineModel.transform(testDF)\n",
    "accuracy = evaluator.evaluate(predDF)\n",
    "print(f'Accuracy for random forest: {accuracy}')"
   ]
  },
  {
   "cell_type": "code",
   "execution_count": null,
   "metadata": {},
   "outputs": [],
   "source": []
  }
 ],
 "metadata": {
  "kernelspec": {
   "display_name": "Python 3 (ipykernel)",
   "language": "python",
   "name": "python3"
  },
  "language_info": {
   "codemirror_mode": {
    "name": "ipython",
    "version": 3
   },
   "file_extension": ".py",
   "mimetype": "text/x-python",
   "name": "python",
   "nbconvert_exporter": "python",
   "pygments_lexer": "ipython3",
   "version": "3.10.10"
  }
 },
 "nbformat": 4,
 "nbformat_minor": 4
}
