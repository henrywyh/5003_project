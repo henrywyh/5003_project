{
 "cells": [
  {
   "cell_type": "code",
   "execution_count": 1,
   "id": "9e85966e-6e9f-43c6-8859-caa2f90597a6",
   "metadata": {},
   "outputs": [],
   "source": [
    "# !pip install praw"
   ]
  },
  {
   "cell_type": "code",
   "execution_count": null,
   "id": "36556ac3-6c44-47b3-a779-d30b05a5686c",
   "metadata": {},
   "outputs": [
    {
     "name": "stderr",
     "output_type": "stream",
     "text": [
      "                                                                                \r"
     ]
    },
    {
     "name": "stdout",
     "output_type": "stream",
     "text": [
      "-------------------------------------------\n",
      "Time: 2023-04-20 16:50:30\n",
      "-------------------------------------------\n",
      "{'id': '12srp7a', 'title': 'Does she like me and also how do I tell her?'}\n",
      "{'id': '12srncw', 'title': 'Todays gonna be terrible •~•'}\n",
      "{'id': '12srncj', 'title': 'Todays gonna be terrible •~•'}\n",
      "{'id': '12srlul', 'title': 'My body count is 4'}\n",
      "{'id': '12srluf', 'title': 'give me your problems i will give you pro tip.'}\n",
      "\n"
     ]
    },
    {
     "name": "stderr",
     "output_type": "stream",
     "text": [
      "[Stage 0:>                                                          (0 + 1) / 1]\r"
     ]
    }
   ],
   "source": [
    "from pyspark import SparkConf, SparkContext\n",
    "from pyspark.streaming import StreamingContext\n",
    "from kafka import KafkaProducer\n",
    "import praw\n",
    "import json\n",
    "\n",
    "def get_submissions(rdd, seen_ids):\n",
    "    # Set up Reddit API\n",
    "    reddit = praw.Reddit(client_id='r_mi6b5G4SkVR-uWyp37kw',\n",
    "                         client_secret='c0-p81DnRU9CB9Weq70ahiTFMqeb8g',\n",
    "                         user_agent='5003-test')\n",
    "    subreddit = reddit.subreddit('askreddit')\n",
    "    # 'doesanybodyelse' very good subreddit but frequency is low\n",
    "    # 'askreddit' extremely frequent but may not be relevant\n",
    "    new_python = subreddit.new(limit=5)\n",
    "\n",
    "    # Filter out duplicate submissions based on their IDs\n",
    "    new_submissions = [submission for submission in new_python if submission.id not in seen_ids]\n",
    "    seen_ids.update(submission.id for submission in new_submissions)\n",
    "\n",
    "    # Convert the submission titles to a list and return as a new RDD\n",
    "    return rdd.context.parallelize([{\"id\": submission.id, \"title\": submission.title} for submission in new_submissions])\n",
    "\n",
    "def send_to_kafka(rdd):\n",
    "    producer = KafkaProducer(bootstrap_servers='localhost:9092')\n",
    "    \n",
    "    for record in rdd.collect():\n",
    "        producer.send('reddit_titles', json.dumps(record).encode('utf-8'))\n",
    "\n",
    "    producer.flush()\n",
    "    producer.close()\n",
    "\n",
    "if __name__ == \"__main__\":\n",
    "    # Create a SparkContext or get an existing one if it's already running\n",
    "    sc = SparkContext.getOrCreate()\n",
    "    ssc = StreamingContext(sc, 30)  # Streaming context with batch interval of 15 seconds\n",
    "    submissions = ssc.socketTextStream(\"localhost\", 9999)\n",
    "\n",
    "    # Keep track of the IDs of seen submissions\n",
    "    seen_ids = set()\n",
    "\n",
    "    # Apply the transformation function to create a new DStream of submission titles\n",
    "    submission_titles = submissions.transform(lambda rdd: get_submissions(rdd, seen_ids))\n",
    "\n",
    "    # Send data to Kafka\n",
    "    submission_titles.foreachRDD(send_to_kafka)\n",
    "\n",
    "    # Print the submission titles every 15 seconds\n",
    "    submission_titles.pprint()\n",
    "\n",
    "    ssc.start()\n",
    "    ssc.awaitTermination()\n"
   ]
  },
  {
   "cell_type": "code",
   "execution_count": null,
   "id": "d1ec7291-a826-4f7a-a8c7-b3666d621eff",
   "metadata": {},
   "outputs": [],
   "source": []
  }
 ],
 "metadata": {
  "kernelspec": {
   "display_name": "Python 3 (ipykernel)",
   "language": "python",
   "name": "python3"
  },
  "language_info": {
   "codemirror_mode": {
    "name": "ipython",
    "version": 3
   },
   "file_extension": ".py",
   "mimetype": "text/x-python",
   "name": "python",
   "nbconvert_exporter": "python",
   "pygments_lexer": "ipython3",
   "version": "3.10.10"
  }
 },
 "nbformat": 4,
 "nbformat_minor": 5
}
