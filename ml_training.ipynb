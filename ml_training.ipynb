{
 "cells": [
  {
   "cell_type": "markdown",
   "metadata": {},
   "source": [
    "## Data Loading"
   ]
  },
  {
   "cell_type": "code",
   "execution_count": 31,
   "metadata": {},
   "outputs": [],
   "source": [
    "from pyspark.sql.types import *\n",
    "from pyspark.ml.feature import Tokenizer, StopWordsRemover, CountVectorizer, IDF\n",
    "from pyspark.ml.feature import StringIndexer\n",
    "from pyspark.ml.classification import LogisticRegression\n",
    "from pyspark.ml import Pipeline\n",
    "from pyspark.ml.evaluation import MulticlassClassificationEvaluator\n",
    "from pyspark.ml.classification import RandomForestClassifier, RandomForestClassificationModel\n",
    "from pyspark.ml.tuning import ParamGridBuilder\n",
    "from pyspark.ml.tuning import CrossValidator\n",
    "import time"
   ]
  },
  {
   "cell_type": "code",
   "execution_count": 32,
   "metadata": {},
   "outputs": [],
   "source": [
    "twitter_path = './data/sentiment_tweets3.csv'\n",
    "reddit_path = './data/depression_dataset_reddit_cleaned.csv'\n",
    "mental_path = './data/mental_health.csv'\n",
    "\n",
    "# schema = StructType([StructField('text', StringType(), True),\n",
    "#                     StructField('label', IntegerType(), True)])\n",
    "\n",
    "df_twitter = spark.read.csv(twitter_path, header=True, inferSchema=True)\n",
    "df_reddit = spark.read.csv(reddit_path, header=True, inferSchema=True)\n",
    "df_mental = spark.read.csv(mental_path, header=True, inferSchema=True)"
   ]
  },
  {
   "cell_type": "code",
   "execution_count": 33,
   "metadata": {
    "scrolled": true
   },
   "outputs": [
    {
     "name": "stdout",
     "output_type": "stream",
     "text": [
      "root\n",
      " |-- Index: integer (nullable = true)\n",
      " |-- message to examine: string (nullable = true)\n",
      " |-- label (depression result): string (nullable = true)\n",
      "\n",
      "root\n",
      " |-- clean_text: string (nullable = true)\n",
      " |-- is_depression: integer (nullable = true)\n",
      "\n",
      "root\n",
      " |-- text: string (nullable = true)\n",
      " |-- label: integer (nullable = true)\n",
      "\n"
     ]
    }
   ],
   "source": [
    "df_twitter.printSchema()\n",
    "df_reddit.printSchema()\n",
    "df_mental.printSchema()"
   ]
  },
  {
   "cell_type": "code",
   "execution_count": 34,
   "metadata": {},
   "outputs": [],
   "source": [
    "df_twitter = df_twitter.withColumnRenamed(\"message to examine\", \"text\")\n",
    "df_twitter = df_twitter.withColumnRenamed(\"label (depression result)\", \"label\")\n",
    "df_twitter = df_twitter.withColumn(\"label\", df_twitter[\"label\"].cast(IntegerType()))\n",
    "df_twitter = df_twitter.drop('Index')\n",
    "\n",
    "df_reddit = df_reddit.withColumnRenamed(\"clean_text\", \"text\")\n",
    "df_reddit = df_reddit.withColumnRenamed(\"is_depression\", \"label\")"
   ]
  },
  {
   "cell_type": "code",
   "execution_count": 35,
   "metadata": {
    "scrolled": true
   },
   "outputs": [
    {
     "name": "stdout",
     "output_type": "stream",
     "text": [
      "+--------------------+-----+\n",
      "|                text|label|\n",
      "+--------------------+-----+\n",
      "|just had a real g...|    0|\n",
      "|is reading manga ...|    0|\n",
      "|@comeagainjen htt...|    0|\n",
      "|@lapcat Need to s...|    0|\n",
      "|ADD ME ON MYSPACE...|    0|\n",
      "|so sleepy. good t...|    0|\n",
      "|@SilkCharm re: #n...|    0|\n",
      "|23 or 24ï¿½C poss...|    0|\n",
      "|nite twitterville...|    0|\n",
      "|@daNanner Night, ...|    0|\n",
      "|Good morning ever...|    0|\n",
      "|Finally! I just c...|    0|\n",
      "|kisha they cnt ge...|    0|\n",
      "|@nicolerichie Yes...|    0|\n",
      "|I really love ref...|    0|\n",
      "|@blueaero ooo it'...|    0|\n",
      "|@rokchic28 no pro...|    0|\n",
      "|@shipovalov &quot...|    0|\n",
      "|Once again stayed...|    0|\n",
      "|@Kal_Penn I just ...|    0|\n",
      "+--------------------+-----+\n",
      "only showing top 20 rows\n",
      "\n",
      "+--------------------+-----+\n",
      "|                text|label|\n",
      "+--------------------+-----+\n",
      "|we understand tha...|    1|\n",
      "|welcome to r depr...|    1|\n",
      "|anyone else inste...|    1|\n",
      "|i ve kind of stuf...|    1|\n",
      "|sleep is my great...|    1|\n",
      "|i m year old turn...|    1|\n",
      "|i live alone and ...|    1|\n",
      "|i m not looking f...|    1|\n",
      "|i don t know how ...|    1|\n",
      "|mom i m sad it hu...|    1|\n",
      "|i ve been struggl...|    1|\n",
      "|idk how to elabor...|    1|\n",
      "|i tried to help h...|    1|\n",
      "|to me it seems li...|    1|\n",
      "|my father committ...|    1|\n",
      "|i don t think i h...|    1|\n",
      "|tw suicide yea so...|    1|\n",
      "|got no one to tal...|    1|\n",
      "|i m sitting on my...|    1|\n",
      "|i hate myself so ...|    1|\n",
      "+--------------------+-----+\n",
      "only showing top 20 rows\n",
      "\n",
      "+--------------------+-----+\n",
      "|                text|label|\n",
      "+--------------------+-----+\n",
      "|dear american tee...|    0|\n",
      "|nothing look forw...|    1|\n",
      "|music recommendat...|    0|\n",
      "|im done trying fe...|    1|\n",
      "|worried  year old...|    1|\n",
      "|hey rredflag sure...|    1|\n",
      "|feel like someone...|    0|\n",
      "|deserve liveif di...|    1|\n",
      "|feels good ive se...|    1|\n",
      "|live guiltok made...|    1|\n",
      "|excercise motivat...|    0|\n",
      "|know youd rather ...|    0|\n",
      "|even time fuck  s...|    0|\n",
      "|usual hollywood s...|    0|\n",
      "|think it nearly u...|    0|\n",
      "|trying rd time k ...|    0|\n",
      "|guy coming sure w...|    0|\n",
      "|one best episodes...|    0|\n",
      "|good byehey you k...|    1|\n",
      "|tried put sugar c...|    1|\n",
      "+--------------------+-----+\n",
      "only showing top 20 rows\n",
      "\n"
     ]
    }
   ],
   "source": [
    "df_twitter.show()\n",
    "df_reddit.show()\n",
    "df_mental.show()"
   ]
  },
  {
   "cell_type": "markdown",
   "metadata": {},
   "source": [
    "## Data Preprocessing"
   ]
  },
  {
   "cell_type": "code",
   "execution_count": 39,
   "metadata": {},
   "outputs": [
    {
     "name": "stdout",
     "output_type": "stream",
     "text": [
      "0\n",
      "0\n",
      "0\n",
      "9\n",
      "0\n",
      "0\n"
     ]
    }
   ],
   "source": [
    "print(df_twitter.toPandas()['text'].isnull().sum())\n",
    "print(df_reddit.toPandas()['text'].isnull().sum())\n",
    "print(df_mental.toPandas()['text'].isnull().sum())\n",
    "\n",
    "print(df_twitter.toPandas()['label'].isnull().sum())\n",
    "print(df_reddit.toPandas()['label'].isnull().sum())\n",
    "print(df_mental.toPandas()['label'].isnull().sum())"
   ]
  },
  {
   "cell_type": "code",
   "execution_count": 41,
   "metadata": {},
   "outputs": [],
   "source": [
    "df_twitter = df_twitter.dropna()"
   ]
  },
  {
   "cell_type": "code",
   "execution_count": 42,
   "metadata": {},
   "outputs": [
    {
     "name": "stdout",
     "output_type": "stream",
     "text": [
      "0\n",
      "0\n",
      "0\n",
      "0\n",
      "0\n",
      "0\n"
     ]
    }
   ],
   "source": [
    "print(df_twitter.toPandas()['text'].isnull().sum())\n",
    "print(df_reddit.toPandas()['text'].isnull().sum())\n",
    "print(df_mental.toPandas()['text'].isnull().sum())\n",
    "\n",
    "print(df_twitter.toPandas()['label'].isnull().sum())\n",
    "print(df_reddit.toPandas()['label'].isnull().sum())\n",
    "print(df_mental.toPandas()['label'].isnull().sum())"
   ]
  },
  {
   "cell_type": "code",
   "execution_count": 43,
   "metadata": {},
   "outputs": [
    {
     "name": "stdout",
     "output_type": "stream",
     "text": [
      "+-----+-----+\n",
      "|label|count|\n",
      "+-----+-----+\n",
      "|    1|19974|\n",
      "|    0|26039|\n",
      "+-----+-----+\n",
      "\n",
      "46013\n"
     ]
    }
   ],
   "source": [
    "df = df_twitter.union(df_reddit).union(df_mental)\n",
    "\n",
    "df.groupby('label').count().show()\n",
    "print(df.count())"
   ]
  },
  {
   "cell_type": "code",
   "execution_count": 44,
   "metadata": {},
   "outputs": [
    {
     "name": "stdout",
     "output_type": "stream",
     "text": [
      "There are 37021 rows in the training set, and 8992 in the test set\n"
     ]
    }
   ],
   "source": [
    "trainDF, testDF = df.randomSplit([.8, .2], seed=42)\n",
    "print(f\"\"\"There are {trainDF.count()} rows in the training set, and {testDF.count()} in the test set\"\"\") "
   ]
  },
  {
   "cell_type": "markdown",
   "metadata": {},
   "source": [
    "## Feature Extraction"
   ]
  },
  {
   "cell_type": "code",
   "execution_count": 45,
   "metadata": {},
   "outputs": [
    {
     "name": "stdout",
     "output_type": "stream",
     "text": [
      "23/04/13 10:30:22 WARN StopWordsRemover: Default locale set was [en_HK]; however, it was not found in available locales in JVM, falling back to en_US locale. Set param `locale` in order to respect another locale.\n"
     ]
    }
   ],
   "source": [
    "tokenizer = Tokenizer(inputCol='text', outputCol='tokens')\n",
    "stopwords_remover = StopWordsRemover(inputCol='tokens', outputCol='filtered_tokens')\n",
    "vectorizer = CountVectorizer(inputCol='filtered_tokens', outputCol='vectors')\n",
    "idf = IDF(inputCol='vectors', outputCol='features')"
   ]
  },
  {
   "cell_type": "markdown",
   "metadata": {},
   "source": [
    "## Logistic Regression"
   ]
  },
  {
   "cell_type": "code",
   "execution_count": 46,
   "metadata": {
    "collapsed": true,
    "jupyter": {
     "outputs_hidden": true
    },
    "tags": []
   },
   "outputs": [
    {
     "name": "stdout",
     "output_type": "stream",
     "text": [
      "23/04/13 10:30:24 WARN DAGScheduler: Broadcasting large task binary with size 1123.1 KiB\n"
     ]
    },
    {
     "name": "stderr",
     "output_type": "stream",
     "text": [
      "                                                                                \r"
     ]
    },
    {
     "name": "stdout",
     "output_type": "stream",
     "text": [
      "23/04/13 10:30:25 WARN DAGScheduler: Broadcasting large task binary with size 1124.1 KiB\n",
      "23/04/13 10:30:25 WARN DAGScheduler: Broadcasting large task binary with size 2.4 MiB\n"
     ]
    },
    {
     "name": "stderr",
     "output_type": "stream",
     "text": [
      "                                                                                \r"
     ]
    },
    {
     "name": "stdout",
     "output_type": "stream",
     "text": [
      "23/04/13 10:30:26 WARN DAGScheduler: Broadcasting large task binary with size 2.4 MiB\n",
      "23/04/13 10:30:26 WARN DAGScheduler: Broadcasting large task binary with size 2.4 MiB\n"
     ]
    },
    {
     "name": "stderr",
     "output_type": "stream",
     "text": [
      "[Stage 125:============================>                            (3 + 3) / 6]\r"
     ]
    },
    {
     "name": "stdout",
     "output_type": "stream",
     "text": [
      "23/04/13 10:30:27 WARN DAGScheduler: Broadcasting large task binary with size 2.4 MiB\n",
      "23/04/13 10:30:27 WARN BLAS: Failed to load implementation from: com.github.fommil.netlib.NativeSystemBLAS\n",
      "23/04/13 10:30:27 WARN BLAS: Failed to load implementation from: com.github.fommil.netlib.NativeRefBLAS\n",
      "23/04/13 10:30:27 WARN DAGScheduler: Broadcasting large task binary with size 2.4 MiB\n"
     ]
    },
    {
     "name": "stderr",
     "output_type": "stream",
     "text": [
      "                                                                                \r"
     ]
    },
    {
     "name": "stdout",
     "output_type": "stream",
     "text": [
      "23/04/13 10:30:27 WARN DAGScheduler: Broadcasting large task binary with size 2.4 MiB\n",
      "23/04/13 10:30:27 WARN DAGScheduler: Broadcasting large task binary with size 2.4 MiB\n",
      "23/04/13 10:30:27 WARN DAGScheduler: Broadcasting large task binary with size 2.4 MiB\n",
      "23/04/13 10:30:27 WARN DAGScheduler: Broadcasting large task binary with size 2.4 MiB\n",
      "23/04/13 10:30:27 WARN DAGScheduler: Broadcasting large task binary with size 2.4 MiB\n",
      "23/04/13 10:30:27 WARN DAGScheduler: Broadcasting large task binary with size 2.4 MiB\n",
      "23/04/13 10:30:27 WARN DAGScheduler: Broadcasting large task binary with size 2.4 MiB\n",
      "23/04/13 10:30:28 WARN DAGScheduler: Broadcasting large task binary with size 2.4 MiB\n",
      "23/04/13 10:30:28 WARN DAGScheduler: Broadcasting large task binary with size 2.4 MiB\n",
      "23/04/13 10:30:28 WARN DAGScheduler: Broadcasting large task binary with size 2.4 MiB\n",
      "23/04/13 10:30:28 WARN DAGScheduler: Broadcasting large task binary with size 2.4 MiB\n",
      "23/04/13 10:30:28 WARN DAGScheduler: Broadcasting large task binary with size 2.4 MiB\n",
      "23/04/13 10:30:28 WARN DAGScheduler: Broadcasting large task binary with size 2.4 MiB\n",
      "23/04/13 10:30:28 WARN DAGScheduler: Broadcasting large task binary with size 2.4 MiB\n",
      "23/04/13 10:30:28 WARN DAGScheduler: Broadcasting large task binary with size 2.4 MiB\n",
      "23/04/13 10:30:28 WARN DAGScheduler: Broadcasting large task binary with size 2.4 MiB\n",
      "23/04/13 10:30:28 WARN DAGScheduler: Broadcasting large task binary with size 2.4 MiB\n",
      "23/04/13 10:30:28 WARN DAGScheduler: Broadcasting large task binary with size 2.4 MiB\n",
      "23/04/13 10:30:28 WARN DAGScheduler: Broadcasting large task binary with size 2.4 MiB\n",
      "23/04/13 10:30:29 WARN DAGScheduler: Broadcasting large task binary with size 2.4 MiB\n",
      "23/04/13 10:30:29 WARN DAGScheduler: Broadcasting large task binary with size 2.4 MiB\n",
      "23/04/13 10:30:29 WARN DAGScheduler: Broadcasting large task binary with size 2.4 MiB\n",
      "23/04/13 10:30:29 WARN DAGScheduler: Broadcasting large task binary with size 2.4 MiB\n",
      "23/04/13 10:30:29 WARN DAGScheduler: Broadcasting large task binary with size 2.4 MiB\n",
      "23/04/13 10:30:29 WARN DAGScheduler: Broadcasting large task binary with size 2.4 MiB\n",
      "23/04/13 10:30:29 WARN DAGScheduler: Broadcasting large task binary with size 2.4 MiB\n",
      "23/04/13 10:30:29 WARN DAGScheduler: Broadcasting large task binary with size 2.4 MiB\n",
      "23/04/13 10:30:29 WARN DAGScheduler: Broadcasting large task binary with size 2.4 MiB\n",
      "23/04/13 10:30:30 WARN DAGScheduler: Broadcasting large task binary with size 2.4 MiB\n",
      "23/04/13 10:30:30 WARN DAGScheduler: Broadcasting large task binary with size 2.4 MiB\n",
      "23/04/13 10:30:30 WARN DAGScheduler: Broadcasting large task binary with size 2.4 MiB\n",
      "23/04/13 10:30:30 WARN DAGScheduler: Broadcasting large task binary with size 2.4 MiB\n",
      "23/04/13 10:30:30 WARN DAGScheduler: Broadcasting large task binary with size 2.4 MiB\n",
      "23/04/13 10:30:30 WARN DAGScheduler: Broadcasting large task binary with size 2.4 MiB\n",
      "23/04/13 10:30:30 WARN DAGScheduler: Broadcasting large task binary with size 2.4 MiB\n",
      "23/04/13 10:30:30 WARN DAGScheduler: Broadcasting large task binary with size 2.4 MiB\n",
      "23/04/13 10:30:30 WARN DAGScheduler: Broadcasting large task binary with size 2.4 MiB\n",
      "23/04/13 10:30:30 WARN DAGScheduler: Broadcasting large task binary with size 2.4 MiB\n",
      "23/04/13 10:30:30 WARN DAGScheduler: Broadcasting large task binary with size 2.4 MiB\n",
      "23/04/13 10:30:30 WARN DAGScheduler: Broadcasting large task binary with size 2.4 MiB\n",
      "23/04/13 10:30:31 WARN DAGScheduler: Broadcasting large task binary with size 2.4 MiB\n",
      "23/04/13 10:30:31 WARN DAGScheduler: Broadcasting large task binary with size 2.4 MiB\n",
      "23/04/13 10:30:31 WARN DAGScheduler: Broadcasting large task binary with size 2.4 MiB\n",
      "23/04/13 10:30:31 WARN DAGScheduler: Broadcasting large task binary with size 2.4 MiB\n",
      "23/04/13 10:30:31 WARN DAGScheduler: Broadcasting large task binary with size 2.4 MiB\n",
      "23/04/13 10:30:31 WARN DAGScheduler: Broadcasting large task binary with size 2.4 MiB\n",
      "23/04/13 10:30:31 WARN DAGScheduler: Broadcasting large task binary with size 2.4 MiB\n",
      "23/04/13 10:30:31 WARN DAGScheduler: Broadcasting large task binary with size 2.4 MiB\n",
      "23/04/13 10:30:31 WARN DAGScheduler: Broadcasting large task binary with size 2.4 MiB\n",
      "23/04/13 10:30:31 WARN DAGScheduler: Broadcasting large task binary with size 2.4 MiB\n",
      "23/04/13 10:30:31 WARN DAGScheduler: Broadcasting large task binary with size 2.4 MiB\n",
      "23/04/13 10:30:31 WARN DAGScheduler: Broadcasting large task binary with size 2.4 MiB\n",
      "23/04/13 10:30:32 WARN DAGScheduler: Broadcasting large task binary with size 2.4 MiB\n",
      "23/04/13 10:30:32 WARN DAGScheduler: Broadcasting large task binary with size 2.4 MiB\n",
      "23/04/13 10:30:32 WARN DAGScheduler: Broadcasting large task binary with size 2.4 MiB\n",
      "23/04/13 10:30:32 WARN DAGScheduler: Broadcasting large task binary with size 2.4 MiB\n",
      "23/04/13 10:30:32 WARN DAGScheduler: Broadcasting large task binary with size 2.4 MiB\n",
      "23/04/13 10:30:32 WARN DAGScheduler: Broadcasting large task binary with size 2.4 MiB\n",
      "23/04/13 10:30:32 WARN DAGScheduler: Broadcasting large task binary with size 2.4 MiB\n",
      "23/04/13 10:30:32 WARN DAGScheduler: Broadcasting large task binary with size 2.4 MiB\n",
      "23/04/13 10:30:32 WARN DAGScheduler: Broadcasting large task binary with size 2.4 MiB\n",
      "23/04/13 10:30:32 WARN DAGScheduler: Broadcasting large task binary with size 2.4 MiB\n",
      "23/04/13 10:30:32 WARN DAGScheduler: Broadcasting large task binary with size 2.4 MiB\n",
      "23/04/13 10:30:33 WARN DAGScheduler: Broadcasting large task binary with size 2.4 MiB\n",
      "23/04/13 10:30:33 WARN DAGScheduler: Broadcasting large task binary with size 2.4 MiB\n",
      "23/04/13 10:30:33 WARN DAGScheduler: Broadcasting large task binary with size 2.4 MiB\n",
      "23/04/13 10:30:33 WARN DAGScheduler: Broadcasting large task binary with size 2.4 MiB\n",
      "23/04/13 10:30:33 WARN DAGScheduler: Broadcasting large task binary with size 2.4 MiB\n",
      "23/04/13 10:30:33 WARN DAGScheduler: Broadcasting large task binary with size 2.4 MiB\n",
      "23/04/13 10:30:33 WARN DAGScheduler: Broadcasting large task binary with size 2.4 MiB\n",
      "23/04/13 10:30:33 WARN DAGScheduler: Broadcasting large task binary with size 2.4 MiB\n",
      "23/04/13 10:30:33 WARN DAGScheduler: Broadcasting large task binary with size 2.4 MiB\n",
      "23/04/13 10:30:33 WARN DAGScheduler: Broadcasting large task binary with size 2.4 MiB\n",
      "23/04/13 10:30:33 WARN DAGScheduler: Broadcasting large task binary with size 2.4 MiB\n",
      "23/04/13 10:30:33 WARN DAGScheduler: Broadcasting large task binary with size 2.4 MiB\n",
      "23/04/13 10:30:34 WARN DAGScheduler: Broadcasting large task binary with size 2.4 MiB\n",
      "23/04/13 10:30:34 WARN DAGScheduler: Broadcasting large task binary with size 2.4 MiB\n",
      "23/04/13 10:30:34 WARN DAGScheduler: Broadcasting large task binary with size 2.4 MiB\n",
      "23/04/13 10:30:34 WARN DAGScheduler: Broadcasting large task binary with size 2.4 MiB\n",
      "23/04/13 10:30:34 WARN DAGScheduler: Broadcasting large task binary with size 2.4 MiB\n",
      "23/04/13 10:30:34 WARN DAGScheduler: Broadcasting large task binary with size 2.4 MiB\n",
      "23/04/13 10:30:34 WARN DAGScheduler: Broadcasting large task binary with size 2.4 MiB\n",
      "23/04/13 10:30:34 WARN DAGScheduler: Broadcasting large task binary with size 2.4 MiB\n",
      "23/04/13 10:30:34 WARN DAGScheduler: Broadcasting large task binary with size 2.4 MiB\n",
      "23/04/13 10:30:34 WARN DAGScheduler: Broadcasting large task binary with size 2.4 MiB\n",
      "23/04/13 10:30:34 WARN DAGScheduler: Broadcasting large task binary with size 2.4 MiB\n",
      "23/04/13 10:30:34 WARN DAGScheduler: Broadcasting large task binary with size 2.4 MiB\n",
      "23/04/13 10:30:35 WARN DAGScheduler: Broadcasting large task binary with size 2.4 MiB\n",
      "23/04/13 10:30:35 WARN DAGScheduler: Broadcasting large task binary with size 2.4 MiB\n",
      "23/04/13 10:30:35 WARN DAGScheduler: Broadcasting large task binary with size 2.4 MiB\n",
      "23/04/13 10:30:35 WARN DAGScheduler: Broadcasting large task binary with size 2.4 MiB\n",
      "23/04/13 10:30:35 WARN DAGScheduler: Broadcasting large task binary with size 2.4 MiB\n",
      "23/04/13 10:30:35 WARN DAGScheduler: Broadcasting large task binary with size 2.4 MiB\n",
      "23/04/13 10:30:35 WARN DAGScheduler: Broadcasting large task binary with size 2.4 MiB\n",
      "23/04/13 10:30:35 WARN DAGScheduler: Broadcasting large task binary with size 2.4 MiB\n",
      "23/04/13 10:30:35 WARN DAGScheduler: Broadcasting large task binary with size 2.4 MiB\n",
      "23/04/13 10:30:35 WARN DAGScheduler: Broadcasting large task binary with size 2.4 MiB\n",
      "23/04/13 10:30:35 WARN DAGScheduler: Broadcasting large task binary with size 2.4 MiB\n",
      "23/04/13 10:30:35 WARN DAGScheduler: Broadcasting large task binary with size 2.4 MiB\n",
      "23/04/13 10:30:35 WARN DAGScheduler: Broadcasting large task binary with size 2.4 MiB\n",
      "23/04/13 10:30:36 WARN DAGScheduler: Broadcasting large task binary with size 2.4 MiB\n",
      "23/04/13 10:30:36 WARN DAGScheduler: Broadcasting large task binary with size 2.4 MiB\n",
      "23/04/13 10:30:36 WARN DAGScheduler: Broadcasting large task binary with size 2.4 MiB\n",
      "23/04/13 10:30:36 WARN DAGScheduler: Broadcasting large task binary with size 2.4 MiB\n",
      "23/04/13 10:30:36 WARN DAGScheduler: Broadcasting large task binary with size 2.4 MiB\n",
      "23/04/13 10:30:36 WARN DAGScheduler: Broadcasting large task binary with size 2.4 MiB\n",
      "23/04/13 10:30:36 WARN DAGScheduler: Broadcasting large task binary with size 2.4 MiB\n",
      "23/04/13 10:30:36 WARN DAGScheduler: Broadcasting large task binary with size 2.4 MiB\n",
      "23/04/13 10:30:36 WARN DAGScheduler: Broadcasting large task binary with size 2.4 MiB\n",
      "23/04/13 10:30:36 WARN DAGScheduler: Broadcasting large task binary with size 2.4 MiB\n",
      "23/04/13 10:30:36 WARN DAGScheduler: Broadcasting large task binary with size 2.4 MiB\n",
      "23/04/13 10:30:36 WARN DAGScheduler: Broadcasting large task binary with size 2.4 MiB\n",
      "23/04/13 10:30:36 WARN DAGScheduler: Broadcasting large task binary with size 2.4 MiB\n",
      "23/04/13 10:30:37 WARN DAGScheduler: Broadcasting large task binary with size 2.4 MiB\n",
      "23/04/13 10:30:37 WARN DAGScheduler: Broadcasting large task binary with size 2.4 MiB\n",
      "23/04/13 10:30:37 WARN DAGScheduler: Broadcasting large task binary with size 2.4 MiB\n",
      "23/04/13 10:30:37 WARN DAGScheduler: Broadcasting large task binary with size 2.4 MiB\n",
      "23/04/13 10:30:37 WARN DAGScheduler: Broadcasting large task binary with size 2.4 MiB\n",
      "23/04/13 10:30:37 WARN DAGScheduler: Broadcasting large task binary with size 2.4 MiB\n",
      "23/04/13 10:30:37 WARN DAGScheduler: Broadcasting large task binary with size 2.4 MiB\n",
      "23/04/13 10:30:37 WARN DAGScheduler: Broadcasting large task binary with size 2.4 MiB\n",
      "23/04/13 10:30:37 WARN DAGScheduler: Broadcasting large task binary with size 2.4 MiB\n",
      "23/04/13 10:30:37 WARN DAGScheduler: Broadcasting large task binary with size 2.4 MiB\n",
      "23/04/13 10:30:37 WARN DAGScheduler: Broadcasting large task binary with size 2.4 MiB\n",
      "23/04/13 10:30:38 WARN DAGScheduler: Broadcasting large task binary with size 2.4 MiB\n",
      "23/04/13 10:30:38 WARN DAGScheduler: Broadcasting large task binary with size 2.4 MiB\n",
      "23/04/13 10:30:38 WARN DAGScheduler: Broadcasting large task binary with size 2.4 MiB\n",
      "23/04/13 10:30:38 WARN DAGScheduler: Broadcasting large task binary with size 2.4 MiB\n",
      "23/04/13 10:30:38 WARN DAGScheduler: Broadcasting large task binary with size 2.4 MiB\n",
      "23/04/13 10:30:38 WARN DAGScheduler: Broadcasting large task binary with size 2.4 MiB\n",
      "23/04/13 10:30:38 WARN DAGScheduler: Broadcasting large task binary with size 2.4 MiB\n",
      "23/04/13 10:30:38 WARN DAGScheduler: Broadcasting large task binary with size 2.4 MiB\n",
      "23/04/13 10:30:38 WARN DAGScheduler: Broadcasting large task binary with size 2.4 MiB\n",
      "23/04/13 10:30:38 WARN DAGScheduler: Broadcasting large task binary with size 2.4 MiB\n",
      "23/04/13 10:30:38 WARN DAGScheduler: Broadcasting large task binary with size 2.4 MiB\n",
      "23/04/13 10:30:38 WARN DAGScheduler: Broadcasting large task binary with size 2.4 MiB\n",
      "23/04/13 10:30:39 WARN DAGScheduler: Broadcasting large task binary with size 2.4 MiB\n",
      "23/04/13 10:30:39 WARN DAGScheduler: Broadcasting large task binary with size 2.4 MiB\n",
      "23/04/13 10:30:39 WARN DAGScheduler: Broadcasting large task binary with size 2.4 MiB\n",
      "23/04/13 10:30:39 WARN DAGScheduler: Broadcasting large task binary with size 2.4 MiB\n",
      "23/04/13 10:30:39 WARN DAGScheduler: Broadcasting large task binary with size 2.4 MiB\n",
      "23/04/13 10:30:39 WARN DAGScheduler: Broadcasting large task binary with size 2.4 MiB\n",
      "23/04/13 10:30:39 WARN DAGScheduler: Broadcasting large task binary with size 2.4 MiB\n",
      "23/04/13 10:30:39 WARN DAGScheduler: Broadcasting large task binary with size 2.4 MiB\n",
      "23/04/13 10:30:39 WARN DAGScheduler: Broadcasting large task binary with size 2.4 MiB\n",
      "23/04/13 10:30:39 WARN DAGScheduler: Broadcasting large task binary with size 2.4 MiB\n",
      "23/04/13 10:30:39 WARN DAGScheduler: Broadcasting large task binary with size 2.4 MiB\n",
      "23/04/13 10:30:39 WARN DAGScheduler: Broadcasting large task binary with size 2.4 MiB\n",
      "23/04/13 10:30:40 WARN DAGScheduler: Broadcasting large task binary with size 2.4 MiB\n",
      "23/04/13 10:30:40 WARN DAGScheduler: Broadcasting large task binary with size 2.4 MiB\n",
      "23/04/13 10:30:40 WARN DAGScheduler: Broadcasting large task binary with size 2.4 MiB\n",
      "23/04/13 10:30:40 WARN DAGScheduler: Broadcasting large task binary with size 2.4 MiB\n",
      "23/04/13 10:30:40 WARN DAGScheduler: Broadcasting large task binary with size 2.4 MiB\n",
      "23/04/13 10:30:40 WARN DAGScheduler: Broadcasting large task binary with size 2.4 MiB\n",
      "23/04/13 10:30:40 WARN DAGScheduler: Broadcasting large task binary with size 2.4 MiB\n",
      "23/04/13 10:30:40 WARN DAGScheduler: Broadcasting large task binary with size 2.4 MiB\n",
      "23/04/13 10:30:40 WARN DAGScheduler: Broadcasting large task binary with size 2.4 MiB\n",
      "23/04/13 10:30:40 WARN DAGScheduler: Broadcasting large task binary with size 2.4 MiB\n",
      "23/04/13 10:30:40 WARN DAGScheduler: Broadcasting large task binary with size 2.4 MiB\n",
      "23/04/13 10:30:40 WARN DAGScheduler: Broadcasting large task binary with size 2.4 MiB\n",
      "23/04/13 10:30:41 WARN DAGScheduler: Broadcasting large task binary with size 2.4 MiB\n",
      "23/04/13 10:30:41 WARN DAGScheduler: Broadcasting large task binary with size 2.4 MiB\n",
      "23/04/13 10:30:41 WARN DAGScheduler: Broadcasting large task binary with size 2.4 MiB\n",
      "23/04/13 10:30:41 WARN DAGScheduler: Broadcasting large task binary with size 2.4 MiB\n",
      "23/04/13 10:30:41 WARN DAGScheduler: Broadcasting large task binary with size 2.4 MiB\n",
      "23/04/13 10:30:41 WARN DAGScheduler: Broadcasting large task binary with size 2.4 MiB\n",
      "23/04/13 10:30:41 WARN DAGScheduler: Broadcasting large task binary with size 2.4 MiB\n",
      "23/04/13 10:30:41 WARN DAGScheduler: Broadcasting large task binary with size 2.4 MiB\n",
      "23/04/13 10:30:41 WARN DAGScheduler: Broadcasting large task binary with size 2.4 MiB\n",
      "23/04/13 10:30:41 WARN DAGScheduler: Broadcasting large task binary with size 2.4 MiB\n",
      "23/04/13 10:30:41 WARN DAGScheduler: Broadcasting large task binary with size 2.4 MiB\n",
      "23/04/13 10:30:42 WARN DAGScheduler: Broadcasting large task binary with size 2.4 MiB\n",
      "23/04/13 10:30:42 WARN DAGScheduler: Broadcasting large task binary with size 2.4 MiB\n",
      "23/04/13 10:30:42 WARN DAGScheduler: Broadcasting large task binary with size 2.4 MiB\n",
      "23/04/13 10:30:42 WARN DAGScheduler: Broadcasting large task binary with size 2.4 MiB\n",
      "23/04/13 10:30:42 WARN DAGScheduler: Broadcasting large task binary with size 2.4 MiB\n",
      "23/04/13 10:30:42 WARN DAGScheduler: Broadcasting large task binary with size 2.4 MiB\n",
      "23/04/13 10:30:42 WARN DAGScheduler: Broadcasting large task binary with size 2.4 MiB\n",
      "23/04/13 10:30:42 WARN DAGScheduler: Broadcasting large task binary with size 2.4 MiB\n",
      "23/04/13 10:30:42 WARN DAGScheduler: Broadcasting large task binary with size 2.4 MiB\n",
      "23/04/13 10:30:42 WARN DAGScheduler: Broadcasting large task binary with size 2.4 MiB\n",
      "23/04/13 10:30:42 WARN DAGScheduler: Broadcasting large task binary with size 2.4 MiB\n",
      "23/04/13 10:30:42 WARN DAGScheduler: Broadcasting large task binary with size 2.4 MiB\n",
      "23/04/13 10:30:43 WARN DAGScheduler: Broadcasting large task binary with size 2.4 MiB\n",
      "23/04/13 10:30:43 WARN DAGScheduler: Broadcasting large task binary with size 2.4 MiB\n",
      "23/04/13 10:30:43 WARN DAGScheduler: Broadcasting large task binary with size 2.4 MiB\n",
      "23/04/13 10:30:43 WARN DAGScheduler: Broadcasting large task binary with size 2.4 MiB\n",
      "23/04/13 10:30:43 WARN DAGScheduler: Broadcasting large task binary with size 2.4 MiB\n",
      "23/04/13 10:30:43 WARN DAGScheduler: Broadcasting large task binary with size 2.4 MiB\n",
      "23/04/13 10:30:43 WARN DAGScheduler: Broadcasting large task binary with size 2.4 MiB\n",
      "23/04/13 10:30:43 WARN DAGScheduler: Broadcasting large task binary with size 2.4 MiB\n",
      "23/04/13 10:30:43 WARN DAGScheduler: Broadcasting large task binary with size 2.4 MiB\n",
      "23/04/13 10:30:43 WARN DAGScheduler: Broadcasting large task binary with size 2.4 MiB\n",
      "23/04/13 10:30:43 WARN DAGScheduler: Broadcasting large task binary with size 2.4 MiB\n",
      "23/04/13 10:30:43 WARN DAGScheduler: Broadcasting large task binary with size 2.4 MiB\n",
      "23/04/13 10:30:44 WARN DAGScheduler: Broadcasting large task binary with size 2.4 MiB\n",
      "23/04/13 10:30:44 WARN DAGScheduler: Broadcasting large task binary with size 2.4 MiB\n",
      "23/04/13 10:30:44 WARN DAGScheduler: Broadcasting large task binary with size 2.4 MiB\n",
      "23/04/13 10:30:44 WARN DAGScheduler: Broadcasting large task binary with size 2.4 MiB\n",
      "23/04/13 10:30:44 WARN DAGScheduler: Broadcasting large task binary with size 2.4 MiB\n",
      "23/04/13 10:30:44 WARN DAGScheduler: Broadcasting large task binary with size 2.4 MiB\n",
      "23/04/13 10:30:44 WARN DAGScheduler: Broadcasting large task binary with size 2.4 MiB\n",
      "23/04/13 10:30:44 WARN DAGScheduler: Broadcasting large task binary with size 2.4 MiB\n",
      "23/04/13 10:30:44 WARN DAGScheduler: Broadcasting large task binary with size 2.4 MiB\n",
      "23/04/13 10:30:44 WARN DAGScheduler: Broadcasting large task binary with size 2.4 MiB\n",
      "23/04/13 10:30:44 WARN DAGScheduler: Broadcasting large task binary with size 2.4 MiB\n",
      "23/04/13 10:30:44 WARN DAGScheduler: Broadcasting large task binary with size 2.4 MiB\n",
      "23/04/13 10:30:45 WARN DAGScheduler: Broadcasting large task binary with size 2.4 MiB\n",
      "23/04/13 10:30:45 WARN DAGScheduler: Broadcasting large task binary with size 2.4 MiB\n",
      "23/04/13 10:30:45 WARN DAGScheduler: Broadcasting large task binary with size 2.4 MiB\n",
      "23/04/13 10:30:45 WARN DAGScheduler: Broadcasting large task binary with size 2.4 MiB\n",
      "23/04/13 10:30:45 WARN DAGScheduler: Broadcasting large task binary with size 2.4 MiB\n",
      "23/04/13 10:30:45 WARN DAGScheduler: Broadcasting large task binary with size 2.4 MiB\n",
      "23/04/13 10:30:45 WARN DAGScheduler: Broadcasting large task binary with size 2.4 MiB\n",
      "23/04/13 10:30:45 WARN DAGScheduler: Broadcasting large task binary with size 2.4 MiB\n",
      "23/04/13 10:30:45 WARN DAGScheduler: Broadcasting large task binary with size 2.4 MiB\n",
      "23/04/13 10:30:45 WARN DAGScheduler: Broadcasting large task binary with size 2.4 MiB\n",
      "23/04/13 10:30:45 WARN DAGScheduler: Broadcasting large task binary with size 2.4 MiB\n",
      "23/04/13 10:30:46 WARN DAGScheduler: Broadcasting large task binary with size 2.4 MiB\n",
      "23/04/13 10:30:46 WARN DAGScheduler: Broadcasting large task binary with size 2.4 MiB\n",
      "23/04/13 10:30:46 WARN DAGScheduler: Broadcasting large task binary with size 2.4 MiB\n"
     ]
    }
   ],
   "source": [
    "lr = LogisticRegression(featuresCol='features', labelCol='label')\n",
    "\n",
    "pipeline = Pipeline(stages=[tokenizer, stopwords_remover, vectorizer, idf, lr])\n",
    "\n",
    "pipelineModel = pipeline.fit(trainDF)"
   ]
  },
  {
   "cell_type": "code",
   "execution_count": 47,
   "metadata": {
    "tags": []
   },
   "outputs": [
    {
     "name": "stdout",
     "output_type": "stream",
     "text": [
      "23/04/13 10:30:46 WARN DAGScheduler: Broadcasting large task binary with size 3.2 MiB\n",
      "+--------------------+-----+--------------------+--------------------+--------------------+--------------------+--------------------+--------------------+----------+\n",
      "|                text|label|              tokens|     filtered_tokens|             vectors|            features|       rawPrediction|         probability|prediction|\n",
      "+--------------------+-----+--------------------+--------------------+--------------------+--------------------+--------------------+--------------------+----------+\n",
      "| I'm happy and co...|    0|[, i'm, happy, an...|  [, happy, content]|(88045,[0,95,1441...|(88045,[0,95,1441...|[7.73019955190955...|[0.99956083651536...|       0.0|\n",
      "| Stray Cats ~ Str...|    0|[, stray, cats, ~...|[, stray, cats, ~...|(88045,[0,902,187...|(88045,[0,902,187...|[47.5904574043106...|           [1.0,0.0]|       0.0|\n",
      "| Ty - now quit re...|    0|[, ty, -, now, qu...|[, ty, -, quit, r...|(88045,[0,171,712...|(88045,[0,171,712...|[67.0962887154165...|           [1.0,0.0]|       0.0|\n",
      "| https://fyi.org....|    1|[, https://fyi.or...|[, https://fyi.or...|(88045,[0,40,1520...|(88045,[0,40,1520...|[-26.203696246818...|[4.16753556336094...|       1.0|\n",
      "| i have twitter o...|    0|[, i, have, twitt...|  [, twitter, phone]|(88045,[0,337,100...|(88045,[0,337,100...|[24.1599858950665...|[0.99999999996783...|       0.0|\n",
      "+--------------------+-----+--------------------+--------------------+--------------------+--------------------+--------------------+--------------------+----------+\n",
      "only showing top 5 rows\n",
      "\n"
     ]
    }
   ],
   "source": [
    "predDF = pipelineModel.transform(testDF)\n",
    "\n",
    "predDF.show(5)"
   ]
  },
  {
   "cell_type": "code",
   "execution_count": 48,
   "metadata": {},
   "outputs": [
    {
     "name": "stdout",
     "output_type": "stream",
     "text": [
      "23/04/13 10:31:16 WARN DAGScheduler: Broadcasting large task binary with size 3.1 MiB\n",
      "Accuracy for logistic regression: 0.8458629893238434\n"
     ]
    }
   ],
   "source": [
    "evaluator = MulticlassClassificationEvaluator(predictionCol='prediction', labelCol='label', metricName='accuracy')\n",
    "\n",
    "accuracy = evaluator.evaluate(predDF)\n",
    "print(f'Accuracy for logistic regression: {accuracy}')"
   ]
  },
  {
   "cell_type": "code",
   "execution_count": 51,
   "metadata": {},
   "outputs": [
    {
     "ename": "AttributeError",
     "evalue": "'PipelineModel' object has no attribute 'overwrite'",
     "output_type": "error",
     "traceback": [
      "\u001b[0;31m---------------------------------------------------------------------------\u001b[0m",
      "\u001b[0;31mAttributeError\u001b[0m                            Traceback (most recent call last)",
      "Input \u001b[0;32mIn [52]\u001b[0m, in \u001b[0;36m<cell line: 3>\u001b[0;34m()\u001b[0m\n\u001b[1;32m      1\u001b[0m \u001b[38;5;66;03m# Save model\u001b[39;00m\n\u001b[1;32m      2\u001b[0m model_path \u001b[38;5;241m=\u001b[39m \u001b[38;5;124m\"\u001b[39m\u001b[38;5;124m../project/models/lr_model\u001b[39m\u001b[38;5;124m\"\u001b[39m\n\u001b[0;32m----> 3\u001b[0m \u001b[43mpipelineModel\u001b[49m\u001b[38;5;241;43m.\u001b[39;49m\u001b[43moverwrite\u001b[49m()\u001b[38;5;241m.\u001b[39msave(model_path)\n",
      "\u001b[0;31mAttributeError\u001b[0m: 'PipelineModel' object has no attribute 'overwrite'"
     ]
    }
   ],
   "source": [
    "# Save model\n",
    "model_path = \"./models/lr_model\"\n",
    "pipelineModel.save(model_path)"
   ]
  },
  {
   "cell_type": "code",
   "execution_count": 54,
   "metadata": {},
   "outputs": [
    {
     "name": "stdout",
     "output_type": "stream",
     "text": [
      "23/04/13 10:33:51 WARN StopWordsRemover: Default locale set was [en_HK]; however, it was not found in available locales in JVM, falling back to en_US locale. Set param `locale` in order to respect another locale.\n",
      "23/04/13 10:33:51 WARN StopWordsRemover: Default locale set was [en_HK]; however, it was not found in available locales in JVM, falling back to en_US locale. Set param `locale` in order to respect another locale.\n"
     ]
    }
   ],
   "source": [
    "# Load model\n",
    "from pyspark.ml import PipelineModel\n",
    "\n",
    "loaded_pipeline_model  = PipelineModel.load(\"./models/lr_model\")\n",
    "df = pipelineModel.transform(df)"
   ]
  },
  {
   "cell_type": "markdown",
   "metadata": {},
   "source": [
    "## Random Forest"
   ]
  },
  {
   "cell_type": "code",
   "execution_count": 55,
   "metadata": {},
   "outputs": [],
   "source": [
    "rf = RandomForestClassifier(labelCol='label', maxBins=40, seed=42)"
   ]
  },
  {
   "cell_type": "code",
   "execution_count": 56,
   "metadata": {},
   "outputs": [],
   "source": [
    "paramGrid = (ParamGridBuilder()\n",
    "            .addGrid(rf.maxDepth, [2, 4, 6])\n",
    "            .addGrid(rf.numTrees, [10, 100])\n",
    "            .build())"
   ]
  },
  {
   "cell_type": "code",
   "execution_count": 57,
   "metadata": {},
   "outputs": [],
   "source": [
    "evaluator = MulticlassClassificationEvaluator(predictionCol='prediction', labelCol='label', metricName='accuracy')"
   ]
  },
  {
   "cell_type": "code",
   "execution_count": 58,
   "metadata": {},
   "outputs": [],
   "source": [
    "cv = CrossValidator(estimator=rf,\n",
    "                    evaluator=evaluator,\n",
    "                    estimatorParamMaps=paramGrid,\n",
    "                    numFolds=3,\n",
    "                    parallelism=4,\n",
    "                    seed=42)\n",
    "\n",
    "pipeline = Pipeline(stages=[tokenizer, stopwords_remover, vectorizer, idf, rf])"
   ]
  },
  {
   "cell_type": "code",
   "execution_count": 59,
   "metadata": {},
   "outputs": [
    {
     "name": "stderr",
     "output_type": "stream",
     "text": [
      "                                                                                \r"
     ]
    },
    {
     "name": "stdout",
     "output_type": "stream",
     "text": [
      "23/04/13 10:34:19 WARN DAGScheduler: Broadcasting large task binary with size 1123.1 KiB\n"
     ]
    },
    {
     "name": "stderr",
     "output_type": "stream",
     "text": [
      "[Stage 393:============================>                            (3 + 3) / 6]\r"
     ]
    },
    {
     "name": "stdout",
     "output_type": "stream",
     "text": [
      "23/04/13 10:34:19 WARN DAGScheduler: Broadcasting large task binary with size 1124.1 KiB\n"
     ]
    },
    {
     "name": "stderr",
     "output_type": "stream",
     "text": [
      "                                                                                \r"
     ]
    },
    {
     "name": "stdout",
     "output_type": "stream",
     "text": [
      "23/04/13 10:34:20 WARN DAGScheduler: Broadcasting large task binary with size 2.4 MiB\n",
      "23/04/13 10:34:20 WARN DAGScheduler: Broadcasting large task binary with size 2.4 MiB\n"
     ]
    },
    {
     "name": "stderr",
     "output_type": "stream",
     "text": [
      "                                                                                \r"
     ]
    },
    {
     "name": "stdout",
     "output_type": "stream",
     "text": [
      "23/04/13 10:34:21 WARN DAGScheduler: Broadcasting large task binary with size 3.3 MiB\n"
     ]
    },
    {
     "name": "stderr",
     "output_type": "stream",
     "text": [
      "                                                                                \r"
     ]
    },
    {
     "name": "stdout",
     "output_type": "stream",
     "text": [
      "23/04/13 10:34:31 WARN DAGScheduler: Broadcasting large task binary with size 4.1 MiB\n"
     ]
    },
    {
     "name": "stderr",
     "output_type": "stream",
     "text": [
      "[Stage 402:>                                                        (0 + 6) / 6]\r"
     ]
    },
    {
     "name": "stdout",
     "output_type": "stream",
     "text": [
      "23/04/13 10:34:32 WARN MemoryStore: Not enough space to cache rdd_1234_2 in memory! (computed 59.5 MiB so far)\n",
      "23/04/13 10:34:32 WARN MemoryStore: Not enough space to cache rdd_1234_4 in memory! (computed 59.5 MiB so far)\n",
      "23/04/13 10:34:32 WARN MemoryStore: Not enough space to cache rdd_1234_5 in memory! (computed 59.5 MiB so far)\n",
      "23/04/13 10:34:32 WARN MemoryStore: Not enough space to cache rdd_1234_0 in memory! (computed 59.5 MiB so far)\n",
      "23/04/13 10:34:32 WARN MemoryStore: Not enough space to cache rdd_1234_3 in memory! (computed 38.0 MiB so far)\n",
      "23/04/13 10:34:32 WARN BlockManager: Persisting block rdd_1234_5 to disk instead.\n",
      "23/04/13 10:34:32 WARN BlockManager: Persisting block rdd_1234_2 to disk instead.\n",
      "23/04/13 10:34:32 WARN BlockManager: Persisting block rdd_1234_4 to disk instead.\n",
      "23/04/13 10:34:32 WARN BlockManager: Persisting block rdd_1234_3 to disk instead.\n",
      "23/04/13 10:34:32 WARN BlockManager: Persisting block rdd_1234_0 to disk instead.\n",
      "23/04/13 10:34:34 WARN MemoryStore: Not enough space to cache rdd_1234_1 in memory! (computed 319.5 MiB so far)\n",
      "23/04/13 10:34:34 WARN BlockManager: Persisting block rdd_1234_1 to disk instead.\n"
     ]
    },
    {
     "name": "stderr",
     "output_type": "stream",
     "text": [
      "[Stage 402:=========>                                               (1 + 5) / 6]\r"
     ]
    },
    {
     "name": "stdout",
     "output_type": "stream",
     "text": [
      "23/04/13 10:34:47 WARN MemoryStore: Not enough space to cache rdd_1234_1 in memory! (computed 59.5 MiB so far)\n",
      "23/04/13 10:34:49 WARN MemoryStore: Not enough space to cache rdd_1234_0 in memory! (computed 59.5 MiB so far)\n",
      "23/04/13 10:34:50 WARN MemoryStore: Not enough space to cache rdd_1234_2 in memory! (computed 59.5 MiB so far)\n",
      "23/04/13 10:34:51 WARN MemoryStore: Not enough space to cache rdd_1234_4 in memory! (computed 21.8 MiB so far)\n",
      "23/04/13 10:34:52 WARN MemoryStore: Not enough space to cache rdd_1234_3 in memory! (computed 91.7 MiB so far)\n"
     ]
    },
    {
     "name": "stderr",
     "output_type": "stream",
     "text": [
      "                                                                                \r"
     ]
    },
    {
     "name": "stdout",
     "output_type": "stream",
     "text": [
      "23/04/13 10:34:56 WARN DAGScheduler: Broadcasting large task binary with size 4.1 MiB\n",
      "23/04/13 10:34:56 WARN MemoryStore: Not enough space to cache rdd_1234_0 in memory! (computed 21.8 MiB so far)\n",
      "23/04/13 10:34:56 WARN MemoryStore: Not enough space to cache rdd_1234_4 in memory! (computed 38.0 MiB so far)\n",
      "23/04/13 10:34:56 WARN MemoryStore: Not enough space to cache rdd_1234_2 in memory! (computed 21.8 MiB so far)\n",
      "23/04/13 10:34:56 WARN MemoryStore: Not enough space to cache rdd_1234_3 in memory! (computed 11.1 MiB so far)\n",
      "23/04/13 10:34:56 WARN MemoryStore: Not enough space to cache rdd_1234_1 in memory! (computed 21.8 MiB so far)\n"
     ]
    },
    {
     "name": "stderr",
     "output_type": "stream",
     "text": [
      "                                                                                \r"
     ]
    },
    {
     "name": "stdout",
     "output_type": "stream",
     "text": [
      "23/04/13 10:35:03 WARN DAGScheduler: Broadcasting large task binary with size 4.2 MiB\n",
      "23/04/13 10:35:04 WARN MemoryStore: Not enough space to cache rdd_1234_0 in memory! (computed 21.8 MiB so far)\n",
      "23/04/13 10:35:04 WARN MemoryStore: Not enough space to cache rdd_1234_2 in memory! (computed 21.8 MiB so far)\n",
      "23/04/13 10:35:04 WARN MemoryStore: Not enough space to cache rdd_1234_4 in memory! (computed 21.8 MiB so far)\n",
      "23/04/13 10:35:04 WARN MemoryStore: Not enough space to cache rdd_1234_3 in memory! (computed 21.8 MiB so far)\n"
     ]
    },
    {
     "name": "stderr",
     "output_type": "stream",
     "text": [
      "[Stage 406:>                                                        (0 + 6) / 6]\r"
     ]
    },
    {
     "name": "stdout",
     "output_type": "stream",
     "text": [
      "23/04/13 10:35:04 WARN MemoryStore: Not enough space to cache rdd_1234_1 in memory! (computed 91.7 MiB so far)\n"
     ]
    },
    {
     "name": "stderr",
     "output_type": "stream",
     "text": [
      "                                                                                \r"
     ]
    },
    {
     "name": "stdout",
     "output_type": "stream",
     "text": [
      "23/04/13 10:35:11 WARN DAGScheduler: Broadcasting large task binary with size 4.2 MiB\n",
      "23/04/13 10:35:11 WARN MemoryStore: Not enough space to cache rdd_1234_1 in memory! (computed 21.8 MiB so far)\n",
      "23/04/13 10:35:11 WARN MemoryStore: Not enough space to cache rdd_1234_2 in memory! (computed 21.8 MiB so far)\n",
      "23/04/13 10:35:11 WARN MemoryStore: Not enough space to cache rdd_1234_3 in memory! (computed 21.8 MiB so far)\n",
      "23/04/13 10:35:11 WARN MemoryStore: Not enough space to cache rdd_1234_0 in memory! (computed 21.8 MiB so far)\n",
      "23/04/13 10:35:11 WARN MemoryStore: Not enough space to cache rdd_1234_4 in memory! (computed 21.8 MiB so far)\n"
     ]
    },
    {
     "name": "stderr",
     "output_type": "stream",
     "text": [
      "                                                                                \r"
     ]
    },
    {
     "name": "stdout",
     "output_type": "stream",
     "text": [
      "23/04/13 10:35:19 WARN DAGScheduler: Broadcasting large task binary with size 4.3 MiB\n",
      "23/04/13 10:35:19 WARN MemoryStore: Not enough space to cache rdd_1234_2 in memory! (computed 21.8 MiB so far)\n",
      "23/04/13 10:35:19 WARN MemoryStore: Not enough space to cache rdd_1234_3 in memory! (computed 21.8 MiB so far)\n",
      "23/04/13 10:35:19 WARN MemoryStore: Not enough space to cache rdd_1234_1 in memory! (computed 21.8 MiB so far)\n",
      "23/04/13 10:35:19 WARN MemoryStore: Not enough space to cache rdd_1234_0 in memory! (computed 21.8 MiB so far)\n",
      "23/04/13 10:35:19 WARN MemoryStore: Not enough space to cache rdd_1234_4 in memory! (computed 21.8 MiB so far)\n"
     ]
    },
    {
     "name": "stderr",
     "output_type": "stream",
     "text": [
      "                                                                                \r"
     ]
    },
    {
     "name": "stdout",
     "output_type": "stream",
     "text": [
      "Time spent: 69.99323678016663\n"
     ]
    }
   ],
   "source": [
    "start_time = time.time()\n",
    "\n",
    "pipelineModel = pipeline.fit(trainDF)\n",
    "print('Time spent:', time.time() - start_time)"
   ]
  },
  {
   "cell_type": "code",
   "execution_count": 60,
   "metadata": {},
   "outputs": [
    {
     "name": "stdout",
     "output_type": "stream",
     "text": [
      "23/04/13 10:35:27 WARN DAGScheduler: Broadcasting large task binary with size 2.6 MiB\n",
      "Accuracy for random forest: 0.7150800711743772\n"
     ]
    }
   ],
   "source": [
    "predDF = pipelineModel.transform(testDF)\n",
    "accuracy = evaluator.evaluate(predDF)\n",
    "print(f'Accuracy for random forest: {accuracy}')"
   ]
  },
  {
   "cell_type": "code",
   "execution_count": null,
   "metadata": {},
   "outputs": [],
   "source": []
  }
 ],
 "metadata": {
  "kernelspec": {
   "display_name": "Python 3 (ipykernel)",
   "language": "python",
   "name": "python3"
  },
  "language_info": {
   "codemirror_mode": {
    "name": "ipython",
    "version": 3
   },
   "file_extension": ".py",
   "mimetype": "text/x-python",
   "name": "python",
   "nbconvert_exporter": "python",
   "pygments_lexer": "ipython3",
   "version": "3.10.10"
  }
 },
 "nbformat": 4,
 "nbformat_minor": 4
}
